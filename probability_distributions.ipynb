{
 "cells": [
  {
   "cell_type": "code",
   "execution_count": 4,
   "metadata": {
    "ExecuteTime": {
     "end_time": "2021-02-09T21:41:46.454197Z",
     "start_time": "2021-02-09T21:41:46.365130Z"
    }
   },
   "outputs": [],
   "source": [
    "import pandas as pd\n",
    "import numpy as np\n",
    "import matplotlib.pyplot as plt\n",
    "from scipy import stats\n",
    "from env import host, user, password\n",
    "\n",
    "def get_db_url(user, host, passw, db):\n",
    "    url = f'mysql+pymysql://{user}:{passw}@{host}/{db}'\n",
    "    return url"
   ]
  },
  {
   "cell_type": "code",
   "execution_count": 5,
   "metadata": {
    "ExecuteTime": {
     "end_time": "2021-02-09T21:51:25.568562Z",
     "start_time": "2021-02-09T21:51:23.735670Z"
    }
   },
   "outputs": [
    {
     "data": {
      "text/plain": [
       "Text(0.5, 0, 'cars per hour')"
      ]
     },
     "execution_count": 5,
     "metadata": {},
     "output_type": "execute_result"
    },
    {
     "data": {
      "image/png": "[encoded data removed]",
      "text/plain": [
       "<Figure size 432x288 with 1 Axes>"
      ]
     },
     "metadata": {},
     "output_type": "display_data"
    }
   ],
   "source": [
    "#1 A bank found that the average number of cars waiting during the noon hour at a drive-up window follows \n",
    "#a Poisson distribution with a mean of 2 cars. Make a chart of this distribution and answer these\n",
    "#questions concerning the probability of cars waiting at the drive-up window.\n",
    "x = np.arange(0,10)\n",
    "y = stats.poisson(2).pmf(x)\n",
    "\n",
    "plt.bar(x,y)\n",
    "plt.xlabel('cars per hour')"
   ]
  },
  {
   "cell_type": "code",
   "execution_count": 6,
   "metadata": {
    "ExecuteTime": {
     "end_time": "2021-02-09T21:52:27.430414Z",
     "start_time": "2021-02-09T21:52:27.296250Z"
    }
   },
   "outputs": [
    {
     "data": {
      "text/plain": [
       "0.1353352832366127"
      ]
     },
     "execution_count": 6,
     "metadata": {},
     "output_type": "execute_result"
    }
   ],
   "source": [
    "# - What is the probability that no cars drive up in the noon hour?\n",
    "cars = stats.poisson(2)\n",
    "cars.pmf(0)"
   ]
  },
  {
   "cell_type": "code",
   "execution_count": 8,
   "metadata": {
    "ExecuteTime": {
     "end_time": "2021-02-09T21:53:22.500396Z",
     "start_time": "2021-02-09T21:53:22.440943Z"
    }
   },
   "outputs": [
    {
     "data": {
      "text/plain": [
       "0.32332358381693654"
      ]
     },
     "execution_count": 8,
     "metadata": {},
     "output_type": "execute_result"
    }
   ],
   "source": [
    "# - What is the probability that 3 or more cars come through the drive through?\n",
    "cars.sf(2)"
   ]
  },
  {
   "cell_type": "code",
   "execution_count": 9,
   "metadata": {
    "ExecuteTime": {
     "end_time": "2021-02-09T21:54:25.953741Z",
     "start_time": "2021-02-09T21:54:25.817161Z"
    }
   },
   "outputs": [
    {
     "data": {
      "text/plain": [
       "0.8646647167633873"
      ]
     },
     "execution_count": 9,
     "metadata": {},
     "output_type": "execute_result"
    }
   ],
   "source": [
    "# - How likely is it that the drive through gets at least 1 car?\n",
    "cars.sf(0)"
   ]
  },
  {
   "cell_type": "code",
   "execution_count": 23,
   "metadata": {
    "ExecuteTime": {
     "end_time": "2021-02-09T22:20:54.817039Z",
     "start_time": "2021-02-09T22:20:54.688632Z"
    }
   },
   "outputs": [
    {
     "data": {
      "text/plain": [
       "3.4934560880854417"
      ]
     },
     "execution_count": 23,
     "metadata": {},
     "output_type": "execute_result"
    }
   ],
   "source": [
    "#2. Grades of State University graduates are normally distributed with a mean of 3.0 and a\n",
    "#standard deviation of .3.\n",
    "#Calculate the following:\n",
    "\n",
    "# - What grade point average is required to be in the top 5% of the graduating class?\n",
    "gpa = stats.norm(3,0.3)\n",
    "gpa.isf(0.05)"
   ]
  },
  {
   "cell_type": "code",
   "execution_count": 13,
   "metadata": {
    "ExecuteTime": {
     "end_time": "2021-02-09T22:01:08.029620Z",
     "start_time": "2021-02-09T22:01:07.956190Z"
    }
   },
   "outputs": [
    {
     "data": {
      "text/plain": [
       "2.689069983151863"
      ]
     },
     "execution_count": 13,
     "metadata": {},
     "output_type": "execute_result"
    }
   ],
   "source": [
    "# - What GPA constitutes the bottom 15% of the class?\n",
    "gpa.ppf(0.15)"
   ]
  },
  {
   "cell_type": "code",
   "execution_count": 24,
   "metadata": {
    "ExecuteTime": {
     "end_time": "2021-02-09T22:21:27.385828Z",
     "start_time": "2021-02-09T22:21:27.220080Z"
    }
   },
   "outputs": [
    {
     "data": {
      "text/plain": [
       "(2.7475136299281258, 2.842679846187588)"
      ]
     },
     "execution_count": 24,
     "metadata": {},
     "output_type": "execute_result"
    }
   ],
   "source": [
    "# - An eccentric alumnus left scholarship money for students in the third decile from the bottom of \n",
    "# their class. Determine the range of the third decile. \n",
    "gpa.ppf(0.2), gpa.ppf(0.3)"
   ]
  },
  {
   "cell_type": "code",
   "execution_count": null,
   "metadata": {},
   "outputs": [],
   "source": [
    "# Would a student with a 2.8 grade point average qualify for this scholarship?\n",
    "#yes"
   ]
  },
  {
   "cell_type": "code",
   "execution_count": 16,
   "metadata": {
    "ExecuteTime": {
     "end_time": "2021-02-09T22:06:00.759371Z",
     "start_time": "2021-02-09T22:06:00.740921Z"
    }
   },
   "outputs": [
    {
     "data": {
      "text/plain": [
       "0.0477903522728147"
      ]
     },
     "execution_count": 16,
     "metadata": {},
     "output_type": "execute_result"
    }
   ],
   "source": [
    "# - If I have a GPA of 3.5, what percentile am I in?\n",
    "gpa.sf(3.5)"
   ]
  },
  {
   "cell_type": "code",
   "execution_count": 19,
   "metadata": {
    "ExecuteTime": {
     "end_time": "2021-02-09T22:16:05.874790Z",
     "start_time": "2021-02-09T22:16:05.738052Z"
    }
   },
   "outputs": [
    {
     "data": {
      "text/plain": [
       "0.1397582363130086"
      ]
     },
     "execution_count": 19,
     "metadata": {},
     "output_type": "execute_result"
    }
   ],
   "source": [
    "#3. A marketing website has an average click-through rate of 2%. One day they observe 4326 visitors and\n",
    "# 97 click-throughs.\n",
    "# How likely is it that this many people or more click through?\n",
    "clicks = stats.binom(4326,0.02)\n",
    "clicks.sf(96)"
   ]
  },
  {
   "cell_type": "code",
   "execution_count": 26,
   "metadata": {
    "ExecuteTime": {
     "end_time": "2021-02-09T22:29:38.150645Z",
     "start_time": "2021-02-09T22:29:38.121977Z"
    }
   },
   "outputs": [],
   "source": [
    "#4. You are working on some statistics homework consisting of 100 questions where all of the answers are a \n",
    "# probability rounded to the hundreths place. Looking to save time, you put down random probabilities as \n",
    "# the answer to each question.\n",
    "n_trials = 100\n",
    "p = 0.01\n",
    "\n",
    "homework = stats.binom(n_trials,p)"
   ]
  },
  {
   "cell_type": "code",
   "execution_count": 43,
   "metadata": {
    "ExecuteTime": {
     "end_time": "2021-02-09T22:44:35.399503Z",
     "start_time": "2021-02-09T22:44:35.328483Z"
    }
   },
   "outputs": [
    {
     "data": {
      "text/plain": [
       "0.36972963764971983"
      ]
     },
     "execution_count": 43,
     "metadata": {},
     "output_type": "execute_result"
    }
   ],
   "source": [
    "# -  What is the probability that at least one of your first 60 answers is correct?\n",
    "homework.pmf(1)"
   ]
  },
  {
   "cell_type": "code",
   "execution_count": 44,
   "metadata": {
    "ExecuteTime": {
     "end_time": "2021-02-09T22:49:42.906870Z",
     "start_time": "2021-02-09T22:49:42.861230Z"
    }
   },
   "outputs": [
    {
     "data": {
      "text/plain": [
       "0.8342199288437355"
      ]
     },
     "execution_count": 44,
     "metadata": {},
     "output_type": "execute_result"
    }
   ],
   "source": [
    "#5. The codeup staff tends to get upset when the student break area is not cleaned up. \n",
    "# Suppose that there's a 3% chance that any one student cleans the break area when \n",
    "# they visit it, and, on any given day, \n",
    "# about 90% of the 3 active cohorts of 22 students visit the break area. \n",
    "# How likely is it that the break area gets cleaned up each day? \n",
    "n = 59 * 5\n",
    "p = 0.03\n",
    "\n",
    "clean = stats.binom(n,p)\n",
    "clean.sf(0)"
   ]
  },
  {
   "cell_type": "code",
   "execution_count": 50,
   "metadata": {
    "ExecuteTime": {
     "end_time": "2021-02-09T22:54:29.318639Z",
     "start_time": "2021-02-09T22:54:29.237818Z"
    }
   },
   "outputs": [
    {
     "data": {
      "text/plain": [
       "0.15943530376915885"
      ]
     },
     "execution_count": 50,
     "metadata": {},
     "output_type": "execute_result"
    }
   ],
   "source": [
    "# How likely is it that it goes two days without getting cleaned up? \n",
    "clean.pmf(3)"
   ]
  },
  {
   "cell_type": "code",
   "execution_count": null,
   "metadata": {},
   "outputs": [],
   "source": [
    "#All week?"
   ]
  },
  {
   "cell_type": "code",
   "execution_count": null,
   "metadata": {},
   "outputs": [],
   "source": [
    "#6. You want to get lunch at La Panaderia, but notice that the line is usually very long at lunchtime. \n",
    "# After several weeks of careful observation, you notice that the average number of people in line when your lunch \n",
    "# break starts is normally distributed with a mean of 15 and standard deviation of 3. \n",
    "#If it takes 2 minutes for each person to order, and 10 minutes from ordering to getting your food, \n",
    "#what is the likelihood that you have at least 15 minutes left to eat your food before you have to go back to class? \n",
    "#Assume you have one hour for lunch, and ignore travel time to and from La Panaderia.\n"
   ]
  },
  {
   "cell_type": "code",
   "execution_count": null,
   "metadata": {},
   "outputs": [],
   "source": [
    "#7. Connect to the employees database and find the average salary of current employees, along with the standard deviation.\n",
    "# For the following questions, calculate the answer based on modeling the employees salaries with a normal distribution\n",
    "# defined by the calculated mean and standard deviation then compare this answer to the actual values present in the\n",
    "# salaries dataset.\n",
    "\n",
    "#a. What percent of employees earn less than 60,000?\n",
    "#b. What percent of employees earn more than 95,000?\n",
    "#c. What percent of employees earn between 65,000 and 80,000?\n",
    "#d. What do the top 5% of employees make?"
   ]
  }
 ],
 "metadata": {
  "kernelspec": {
   "display_name": "Python 3",
   "language": "python",
   "name": "python3"
  },
  "language_info": {
   "codemirror_mode": {
    "name": "ipython",
    "version": 3
   },
   "file_extension": ".py",
   "mimetype": "text/x-python",
   "name": "python",
   "nbconvert_exporter": "python",
   "pygments_lexer": "ipython3",
   "version": "3.8.5"
  },
  "varInspector": {
   "cols": {
    "lenName": 16,
    "lenType": 16,
    "lenVar": 40
   },
   "kernels_config": {
    "python": {
     "delete_cmd_postfix": "",
     "delete_cmd_prefix": "del ",
     "library": "var_list.py",
     "varRefreshCmd": "print(var_dic_list())"
    },
    "r": {
     "delete_cmd_postfix": ") ",
     "delete_cmd_prefix": "rm(",
     "library": "var_list.r",
     "varRefreshCmd": "cat(var_dic_list()) "
    }
   },
   "types_to_exclude": [
    "module",
    "function",
    "builtin_function_or_method",
    "instance",
    "_Feature"
   ],
   "window_display": false
  }
 },
 "nbformat": 4,
 "nbformat_minor": 4
}
