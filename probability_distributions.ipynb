{
 "cells": [
  {
   "cell_type": "code",
   "execution_count": 61,
   "metadata": {
    "ExecuteTime": {
     "end_time": "2021-02-10T00:16:39.296114Z",
     "start_time": "2021-02-10T00:16:39.290863Z"
    }
   },
   "outputs": [],
   "source": [
    "import pandas as pd\n",
    "import numpy as np\n",
    "import matplotlib.pyplot as plt\n",
    "from scipy import stats\n",
    "from env import host, user, password\n",
    "\n",
    "def get_db_url(user, host, password, db):\n",
    "    url = f'mysql+pymysql://{user}:{password}@{host}/{db}'\n",
    "    return url"
   ]
  },
  {
   "cell_type": "code",
   "execution_count": 5,
   "metadata": {
    "ExecuteTime": {
     "end_time": "2021-02-09T21:51:25.568562Z",
     "start_time": "2021-02-09T21:51:23.735670Z"
    }
   },
   "outputs": [
    {
     "data": {
      "text/plain": [
       "Text(0.5, 0, 'cars per hour')"
      ]
     },
     "execution_count": 5,
     "metadata": {},
     "output_type": "execute_result"
    },
    {
     "data": {
      "image/png": "[encoded data removed]",
      "text/plain": [
       "<Figure size 432x288 with 1 Axes>"
      ]
     },
     "metadata": {},
     "output_type": "display_data"
    }
   ],
   "source": [
    "#1 A bank found that the average number of cars waiting during the noon hour at a drive-up window follows \n",
    "#a Poisson distribution with a mean of 2 cars. Make a chart of this distribution and answer these\n",
    "#questions concerning the probability of cars waiting at the drive-up window.\n",
    "x = np.arange(0,10)\n",
    "y = stats.poisson(2).pmf(x)\n",
    "\n",
    "plt.bar(x,y)\n",
    "plt.xlabel('cars per hour')"
   ]
  },
  {
   "cell_type": "code",
   "execution_count": 6,
   "metadata": {
    "ExecuteTime": {
     "end_time": "2021-02-09T21:52:27.430414Z",
     "start_time": "2021-02-09T21:52:27.296250Z"
    }
   },
   "outputs": [
    {
     "data": {
      "text/plain": [
       "0.1353352832366127"
      ]
     },
     "execution_count": 6,
     "metadata": {},
     "output_type": "execute_result"
    }
   ],
   "source": [
    "# - What is the probability that no cars drive up in the noon hour?\n",
    "cars = stats.poisson(2)\n",
    "cars.pmf(0)"
   ]
  },
  {
   "cell_type": "code",
   "execution_count": 8,
   "metadata": {
    "ExecuteTime": {
     "end_time": "2021-02-09T21:53:22.500396Z",
     "start_time": "2021-02-09T21:53:22.440943Z"
    }
   },
   "outputs": [
    {
     "data": {
      "text/plain": [
       "0.32332358381693654"
      ]
     },
     "execution_count": 8,
     "metadata": {},
     "output_type": "execute_result"
    }
   ],
   "source": [
    "# - What is the probability that 3 or more cars come through the drive through?\n",
    "cars.sf(2)"
   ]
  },
  {
   "cell_type": "code",
   "execution_count": 9,
   "metadata": {
    "ExecuteTime": {
     "end_time": "2021-02-09T21:54:25.953741Z",
     "start_time": "2021-02-09T21:54:25.817161Z"
    }
   },
   "outputs": [
    {
     "data": {
      "text/plain": [
       "0.8646647167633873"
      ]
     },
     "execution_count": 9,
     "metadata": {},
     "output_type": "execute_result"
    }
   ],
   "source": [
    "# - How likely is it that the drive through gets at least 1 car?\n",
    "cars.sf(0)"
   ]
  },
  {
   "cell_type": "code",
   "execution_count": 23,
   "metadata": {
    "ExecuteTime": {
     "end_time": "2021-02-09T22:20:54.817039Z",
     "start_time": "2021-02-09T22:20:54.688632Z"
    }
   },
   "outputs": [
    {
     "data": {
      "text/plain": [
       "3.4934560880854417"
      ]
     },
     "execution_count": 23,
     "metadata": {},
     "output_type": "execute_result"
    }
   ],
   "source": [
    "#2. Grades of State University graduates are normally distributed with a mean of 3.0 and a\n",
    "#standard deviation of .3.\n",
    "#Calculate the following:\n",
    "\n",
    "# - What grade point average is required to be in the top 5% of the graduating class?\n",
    "gpa = stats.norm(3,0.3)\n",
    "gpa.isf(0.05)"
   ]
  },
  {
   "cell_type": "code",
   "execution_count": 13,
   "metadata": {
    "ExecuteTime": {
     "end_time": "2021-02-09T22:01:08.029620Z",
     "start_time": "2021-02-09T22:01:07.956190Z"
    }
   },
   "outputs": [
    {
     "data": {
      "text/plain": [
       "2.689069983151863"
      ]
     },
     "execution_count": 13,
     "metadata": {},
     "output_type": "execute_result"
    }
   ],
   "source": [
    "# - What GPA constitutes the bottom 15% of the class?\n",
    "gpa.ppf(0.15)"
   ]
  },
  {
   "cell_type": "code",
   "execution_count": 24,
   "metadata": {
    "ExecuteTime": {
     "end_time": "2021-02-09T22:21:27.385828Z",
     "start_time": "2021-02-09T22:21:27.220080Z"
    }
   },
   "outputs": [
    {
     "data": {
      "text/plain": [
       "(2.7475136299281258, 2.842679846187588)"
      ]
     },
     "execution_count": 24,
     "metadata": {},
     "output_type": "execute_result"
    }
   ],
   "source": [
    "# - An eccentric alumnus left scholarship money for students in the third decile from the bottom of \n",
    "# their class. Determine the range of the third decile. \n",
    "gpa.ppf(0.2), gpa.ppf(0.3)"
   ]
  },
  {
   "cell_type": "code",
   "execution_count": null,
   "metadata": {},
   "outputs": [],
   "source": [
    "# Would a student with a 2.8 grade point average qualify for this scholarship?\n",
    "#yes"
   ]
  },
  {
   "cell_type": "code",
   "execution_count": 16,
   "metadata": {
    "ExecuteTime": {
     "end_time": "2021-02-09T22:06:00.759371Z",
     "start_time": "2021-02-09T22:06:00.740921Z"
    }
   },
   "outputs": [
    {
     "data": {
      "text/plain": [
       "0.0477903522728147"
      ]
     },
     "execution_count": 16,
     "metadata": {},
     "output_type": "execute_result"
    }
   ],
   "source": [
    "# - If I have a GPA of 3.5, what percentile am I in?\n",
    "gpa.sf(3.5)"
   ]
  },
  {
   "cell_type": "code",
   "execution_count": 19,
   "metadata": {
    "ExecuteTime": {
     "end_time": "2021-02-09T22:16:05.874790Z",
     "start_time": "2021-02-09T22:16:05.738052Z"
    }
   },
   "outputs": [
    {
     "data": {
      "text/plain": [
       "0.1397582363130086"
      ]
     },
     "execution_count": 19,
     "metadata": {},
     "output_type": "execute_result"
    }
   ],
   "source": [
    "#3. A marketing website has an average click-through rate of 2%. One day they observe 4326 visitors and\n",
    "# 97 click-throughs.\n",
    "# How likely is it that this many people or more click through?\n",
    "clicks = stats.binom(4326,0.02)\n",
    "clicks.sf(96)"
   ]
  },
  {
   "cell_type": "code",
   "execution_count": 52,
   "metadata": {
    "ExecuteTime": {
     "end_time": "2021-02-09T23:46:58.166146Z",
     "start_time": "2021-02-09T23:46:58.160070Z"
    }
   },
   "outputs": [],
   "source": [
    "#4. You are working on some statistics homework consisting of 100 questions where all of the answers are a \n",
    "# probability rounded to the hundreths place. Looking to save time, you put down random probabilities as \n",
    "# the answer to each question.\n",
    "n_trials = 60\n",
    "p = 0.01\n",
    "\n",
    "homework = stats.binom(n_trials,p)"
   ]
  },
  {
   "cell_type": "code",
   "execution_count": 53,
   "metadata": {
    "ExecuteTime": {
     "end_time": "2021-02-09T23:47:03.463764Z",
     "start_time": "2021-02-09T23:47:03.455966Z"
    }
   },
   "outputs": [
    {
     "data": {
      "text/plain": [
       "0.33161008629744687"
      ]
     },
     "execution_count": 53,
     "metadata": {},
     "output_type": "execute_result"
    }
   ],
   "source": [
    "# -  What is the probability that at least one of your first 60 answers is correct?\n",
    "homework.pmf(1)"
   ]
  },
  {
   "cell_type": "code",
   "execution_count": 51,
   "metadata": {
    "ExecuteTime": {
     "end_time": "2021-02-09T23:40:11.228096Z",
     "start_time": "2021-02-09T23:40:11.218174Z"
    }
   },
   "outputs": [
    {
     "data": {
      "text/plain": [
       "0.8342199288437355"
      ]
     },
     "execution_count": 51,
     "metadata": {},
     "output_type": "execute_result"
    }
   ],
   "source": [
    "#5. The codeup staff tends to get upset when the student break area is not cleaned up. \n",
    "# Suppose that there's a 3% chance that any one student cleans the break area when \n",
    "# they visit it, and, on any given day, \n",
    "# about 90% of the 3 active cohorts of 22 students visit the break area. \n",
    "# How likely is it that the break area gets cleaned up each day? \n",
    "n = 59.4 \n",
    "p = 0.03\n",
    "\n",
    "clean = stats.binom(n,p)\n",
    "clean.sf(0)"
   ]
  },
  {
   "cell_type": "code",
   "execution_count": 55,
   "metadata": {
    "ExecuteTime": {
     "end_time": "2021-02-09T23:50:37.050123Z",
     "start_time": "2021-02-09T23:50:36.999828Z"
    }
   },
   "outputs": [
    {
     "data": {
      "text/plain": [
       "array([[0, 0, 0, ..., 0, 0, 0],\n",
       "       [1, 0, 0, ..., 0, 0, 0],\n",
       "       [0, 0, 0, ..., 0, 0, 0],\n",
       "       ...,\n",
       "       [0, 0, 0, ..., 0, 0, 0],\n",
       "       [0, 0, 0, ..., 0, 0, 0],\n",
       "       [0, 0, 0, ..., 0, 0, 0]])"
      ]
     },
     "execution_count": 55,
     "metadata": {},
     "output_type": "execute_result"
    }
   ],
   "source": [
    "# How likely is it that it goes two days without getting cleaned up? \n",
    "cleaned = np.random.choice([1,0],size=(100000,7),p=[0.03,0.97])\n",
    "cleaned"
   ]
  },
  {
   "cell_type": "code",
   "execution_count": null,
   "metadata": {},
   "outputs": [],
   "source": [
    "#All week?"
   ]
  },
  {
   "cell_type": "code",
   "execution_count": null,
   "metadata": {
    "ExecuteTime": {
     "end_time": "2021-02-10T00:10:46.489377Z",
     "start_time": "2021-02-10T00:10:46.479043Z"
    }
   },
   "outputs": [],
   "source": [
    "#6. You want to get lunch at La Panaderia, but notice that the line is usually very long at lunchtime. \n",
    "# After several weeks of careful observation, you notice that the average number of people in line when your\n",
    "# lunch break starts is normally distributed with a mean of 15 and standard deviation of 3. \n",
    "\n",
    "lunch = stats.norm(15,3)"
   ]
  },
  {
   "cell_type": "code",
   "execution_count": 59,
   "metadata": {
    "ExecuteTime": {
     "end_time": "2021-02-10T00:12:36.079269Z",
     "start_time": "2021-02-10T00:12:36.070913Z"
    }
   },
   "outputs": [
    {
     "data": {
      "text/plain": [
       "0.7976716190363569"
      ]
     },
     "execution_count": 59,
     "metadata": {},
     "output_type": "execute_result"
    }
   ],
   "source": [
    "#If it takes 2 minutes for each person to order, and 10 minutes from ordering to getting your food, \n",
    "#what is the likelihood that you have at least 15 minutes left to eat your food before you have to\n",
    "#go back to class? Assume you have one hour for lunch, and ignore travel time to and from La Panaderia.\n",
    "\n",
    "#15mins = 50 - 2x(number of people) = 17.5\n",
    "lunch.cdf(17.5)"
   ]
  },
  {
   "cell_type": "code",
   "execution_count": 63,
   "metadata": {
    "ExecuteTime": {
     "end_time": "2021-02-10T00:16:58.188266Z",
     "start_time": "2021-02-10T00:16:58.183383Z"
    }
   },
   "outputs": [],
   "source": [
    "#7. Connect to the employees database and find the average salary of current employees, \n",
    "# along with the standard deviation.\n",
    "db = 'employees'\n",
    "\n",
    "employees_url = get_db_url(user,host,password,db)"
   ]
  },
  {
   "cell_type": "code",
   "execution_count": 66,
   "metadata": {
    "ExecuteTime": {
     "end_time": "2021-02-10T00:24:03.309339Z",
     "start_time": "2021-02-10T00:23:59.971392Z"
    }
   },
   "outputs": [],
   "source": [
    "query = '''\n",
    "select salary\n",
    "from salaries\n",
    "where to_date > curdate();\n",
    "'''\n",
    "salaries_df = pd.read_sql(query,employees_url)\n",
    "salaries_df.to_csv('salaries.csv')\n",
    "salaries_df = pd.read_csv('salaries.csv')\n"
   ]
  },
  {
   "cell_type": "code",
   "execution_count": 72,
   "metadata": {
    "ExecuteTime": {
     "end_time": "2021-02-10T00:27:15.274670Z",
     "start_time": "2021-02-10T00:27:15.265994Z"
    }
   },
   "outputs": [
    {
     "data": {
      "text/plain": [
       "0         88958\n",
       "1         72527\n",
       "2         43311\n",
       "3         74057\n",
       "4         94692\n",
       "          ...  \n",
       "240119    52868\n",
       "240120    69501\n",
       "240121    83441\n",
       "240122    55003\n",
       "240123    77303\n",
       "Name: salary, Length: 240124, dtype: int64"
      ]
     },
     "execution_count": 72,
     "metadata": {},
     "output_type": "execute_result"
    }
   ],
   "source": [
    "salaries_df = salaries_df.salary\n",
    "salaries_df"
   ]
  },
  {
   "cell_type": "code",
   "execution_count": 75,
   "metadata": {
    "ExecuteTime": {
     "end_time": "2021-02-10T00:28:10.346322Z",
     "start_time": "2021-02-10T00:28:10.336917Z"
    }
   },
   "outputs": [
    {
     "data": {
      "text/plain": [
       "(72012.23585730705, 17309.99538025198)"
      ]
     },
     "execution_count": 75,
     "metadata": {},
     "output_type": "execute_result"
    }
   ],
   "source": [
    "salaries_df.mean(), salaries_df.std()"
   ]
  },
  {
   "cell_type": "code",
   "execution_count": 76,
   "metadata": {
    "ExecuteTime": {
     "end_time": "2021-02-10T00:33:42.726865Z",
     "start_time": "2021-02-10T00:33:42.721183Z"
    }
   },
   "outputs": [],
   "source": [
    "# For the following questions, calculate the answer based on modeling the employees salaries with a\n",
    "# normal distribution\n",
    "salaries_dist = stats.norm(72012.24,17310)"
   ]
  },
  {
   "cell_type": "code",
   "execution_count": 78,
   "metadata": {
    "ExecuteTime": {
     "end_time": "2021-02-10T00:34:58.822286Z",
     "start_time": "2021-02-10T00:34:58.811263Z"
    }
   },
   "outputs": [
    {
     "data": {
      "text/plain": [
       "0.2438574078313278"
      ]
     },
     "execution_count": 78,
     "metadata": {},
     "output_type": "execute_result"
    }
   ],
   "source": [
    "# defined by the calculated mean and standard deviation then compare this answer to the actual \n",
    "# values present in the salaries dataset.\n",
    "\n",
    "#a. What percent of employees earn less than 60,000?\n",
    "salaries_dist.cdf(60000)"
   ]
  },
  {
   "cell_type": "code",
   "execution_count": 84,
   "metadata": {
    "ExecuteTime": {
     "end_time": "2021-02-10T00:39:40.256107Z",
     "start_time": "2021-02-10T00:39:40.246707Z"
    }
   },
   "outputs": [
    {
     "data": {
      "text/plain": [
       "0.2705727041028802"
      ]
     },
     "execution_count": 84,
     "metadata": {},
     "output_type": "execute_result"
    }
   ],
   "source": [
    "(salaries_df < 60000).mean()"
   ]
  },
  {
   "cell_type": "code",
   "execution_count": 79,
   "metadata": {
    "ExecuteTime": {
     "end_time": "2021-02-10T00:35:47.648028Z",
     "start_time": "2021-02-10T00:35:47.640039Z"
    }
   },
   "outputs": [
    {
     "data": {
      "text/plain": [
       "0.09208829007127312"
      ]
     },
     "execution_count": 79,
     "metadata": {},
     "output_type": "execute_result"
    }
   ],
   "source": [
    "#b. What percent of employees earn more than 95,000?\n",
    "salaries_dist.sf(95000)"
   ]
  },
  {
   "cell_type": "code",
   "execution_count": 85,
   "metadata": {
    "ExecuteTime": {
     "end_time": "2021-02-10T00:40:23.345884Z",
     "start_time": "2021-02-10T00:40:23.336282Z"
    }
   },
   "outputs": [
    {
     "data": {
      "text/plain": [
       "0.1086272092752078"
      ]
     },
     "execution_count": 85,
     "metadata": {},
     "output_type": "execute_result"
    }
   ],
   "source": [
    "(salaries_df > 95000).mean()"
   ]
  },
  {
   "cell_type": "code",
   "execution_count": 80,
   "metadata": {
    "ExecuteTime": {
     "end_time": "2021-02-10T00:36:57.255790Z",
     "start_time": "2021-02-10T00:36:57.247455Z"
    }
   },
   "outputs": [
    {
     "data": {
      "text/plain": [
       "0.33506048676360467"
      ]
     },
     "execution_count": 80,
     "metadata": {},
     "output_type": "execute_result"
    }
   ],
   "source": [
    "#c. What percent of employees earn between 65,000 and 80,000?\n",
    "salaries_dist.cdf(80000) - salaries_dist.cdf(65000)"
   ]
  },
  {
   "cell_type": "code",
   "execution_count": 88,
   "metadata": {
    "ExecuteTime": {
     "end_time": "2021-02-10T00:43:02.851221Z",
     "start_time": "2021-02-10T00:43:02.838629Z"
    }
   },
   "outputs": [
    {
     "data": {
      "text/plain": [
       "0.39996418517099497"
      ]
     },
     "execution_count": 88,
     "metadata": {},
     "output_type": "execute_result"
    }
   ],
   "source": [
    "((salaries_df > 65000) & (salaries_df <85000)).mean()"
   ]
  },
  {
   "cell_type": "code",
   "execution_count": 81,
   "metadata": {
    "ExecuteTime": {
     "end_time": "2021-02-10T00:37:29.830974Z",
     "start_time": "2021-02-10T00:37:29.823573Z"
    }
   },
   "outputs": [
    {
     "data": {
      "text/plain": [
       "100484.65628252999"
      ]
     },
     "execution_count": 81,
     "metadata": {},
     "output_type": "execute_result"
    }
   ],
   "source": [
    "#d. What do the top 5% of employees make?\n",
    "salaries_dist.isf(0.05)"
   ]
  },
  {
   "cell_type": "code",
   "execution_count": null,
   "metadata": {},
   "outputs": [],
   "source": []
  }
 ],
 "metadata": {
  "kernelspec": {
   "display_name": "Python 3",
   "language": "python",
   "name": "python3"
  },
  "language_info": {
   "codemirror_mode": {
    "name": "ipython",
    "version": 3
   },
   "file_extension": ".py",
   "mimetype": "text/x-python",
   "name": "python",
   "nbconvert_exporter": "python",
   "pygments_lexer": "ipython3",
   "version": "3.8.5"
  },
  "varInspector": {
   "cols": {
    "lenName": 16,
    "lenType": 16,
    "lenVar": 40
   },
   "kernels_config": {
    "python": {
     "delete_cmd_postfix": "",
     "delete_cmd_prefix": "del ",
     "library": "var_list.py",
     "varRefreshCmd": "print(var_dic_list())"
    },
    "r": {
     "delete_cmd_postfix": ") ",
     "delete_cmd_prefix": "rm(",
     "library": "var_list.r",
     "varRefreshCmd": "cat(var_dic_list()) "
    }
   },
   "types_to_exclude": [
    "module",
    "function",
    "builtin_function_or_method",
    "instance",
    "_Feature"
   ],
   "window_display": false
  }
 },
 "nbformat": 4,
 "nbformat_minor": 4
}
