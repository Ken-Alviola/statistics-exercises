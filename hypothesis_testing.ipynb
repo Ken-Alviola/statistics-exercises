{
 "cells": [
  {
   "cell_type": "code",
   "execution_count": 29,
   "metadata": {
    "ExecuteTime": {
     "end_time": "2021-02-11T20:13:47.505680Z",
     "start_time": "2021-02-11T20:13:47.486870Z"
    }
   },
   "outputs": [],
   "source": [
    "import pandas as pd\n",
    "import numpy as np\n",
    "import matplotlib.pyplot as plt\n",
    "from scipy import stats\n",
    "from env import host, user, password\n",
    "from pydataset import data\n",
    "\n",
    "def get_db_url(user, host, password, db):\n",
    "    url = f'mysql+pymysql://{user}:{password}@{host}/{db}'\n",
    "    return url"
   ]
  },
  {
   "cell_type": "code",
   "execution_count": null,
   "metadata": {},
   "outputs": [],
   "source": [
    "#1. For each of the following questions, formulate a null and alternative hypothesis\n",
    "# (be as specific as you can be), then give an example of what a true positive, true negative, \n",
    "# type I and type II errors would look like. Note that some of the questions are intentionally phrased in a vague way.\n",
    "# It is your job to reword these as more precise questions that could be tested.\n",
    "\n",
    "# - Has the network latency gone up since we switched internet service providers?\n",
    "null_hypo = 'The network latency has not changed after switching ISP'\n",
    "alt_hypo = 'The network latency has increased after switching ISP'\n",
    "true_pos = 'I believe the network latency has increased and in reality it has increased'\n",
    "true_neg = 'I believe the network lag has not increased and after test it has not'\n",
    "type_1 = 'I hypothesized that the network lag has increased but in reality it has not'\n",
    "type_2 = 'I hypothesized that the network lag has not increased but in reality it has'\n",
    "\n",
    "# - Is the website redesign any good?\n",
    "null_hypo = 'The website redesign has not improved' #be more specific\n",
    "alt_hypo = 'The website redesign has improved'\n",
    "true_pos = 'The website redesign has improved and everyone likes it'\n",
    "true_neg = 'The website redesign has not improved and everyone hates it'\n",
    "type_1 = 'I hypothesized that the website redesign has improved but everyone hates it'\n",
    "type_2 = 'I hypothesized that the website redesign has not improved but everyone likes it'\n",
    "\n",
    "# - Is our television ad driving more sales?\n",
    "null_hypo = 'The tv ad has no impact on sales'\n",
    "alt_hypo = 'The tv ad has an impact on sales'\n",
    "true_pos = 'I believe the tv ad has an impact on sales and sales are up'\n",
    "true_neg = 'I believe the tv ad has no impact on sales and sales are flat'\n",
    "type_1 = 'I hypothesized that the tv ad has an impact on sales but sales are flat'\n",
    "type_2 = 'I hypothesized that the tv ad has no impact on sales but sales are up'"
   ]
  },
  {
   "cell_type": "code",
   "execution_count": 6,
   "metadata": {
    "ExecuteTime": {
     "end_time": "2021-02-11T20:06:33.428332Z",
     "start_time": "2021-02-11T20:06:33.395145Z"
    }
   },
   "outputs": [],
   "source": [
    "#2. Ace Realty wants to determine whether the average time it takes to sell homes is different for its \n",
    "# two offices. A sample of 40 sales from office #1 revealed a mean of 90 days and a standard deviation of 15 days.\n",
    "# A sample of 50 sales from office #2 revealed a mean of 100 days and a standard deviation of 20 days. \n",
    "# Use a .05 level of significance.\n",
    "\n",
    "null_hypo = 'The average time it takes to sell a home is not different for both offices'\n",
    "alt_hypo = 'The average time to sell is different between both offices'\n",
    "confidence_level = 0.95\n",
    "a = 1 - confidence_level \n",
    "\n",
    "sample1 = 40\n",
    "mean1 = 90\n",
    "std1 = 15\n",
    "sample2 = 50\n",
    "mean2 = 100\n",
    "std2 = 20"
   ]
  },
  {
   "cell_type": "code",
   "execution_count": 7,
   "metadata": {
    "ExecuteTime": {
     "end_time": "2021-02-11T20:06:34.793173Z",
     "start_time": "2021-02-11T20:06:34.762572Z"
    }
   },
   "outputs": [
    {
     "data": {
      "text/plain": [
       "(-2.6252287036468456, 0.01020985244923939)"
      ]
     },
     "execution_count": 7,
     "metadata": {},
     "output_type": "execute_result"
    }
   ],
   "source": [
    "t,p = stats.ttest_ind_from_stats(mean1,std1,sample1,mean2,std2,sample2)\n",
    "t,p"
   ]
  },
  {
   "cell_type": "code",
   "execution_count": 8,
   "metadata": {
    "ExecuteTime": {
     "end_time": "2021-02-11T20:06:36.716022Z",
     "start_time": "2021-02-11T20:06:36.710531Z"
    }
   },
   "outputs": [
    {
     "name": "stdout",
     "output_type": "stream",
     "text": [
      "We reject the null hypothesis that they are the same\n",
      "We move forward w/ the alternative hypothesis\n"
     ]
    }
   ],
   "source": [
    "if p < a:\n",
    "    print(\"We reject the null hypothesis that they are the same\")\n",
    "    print(\"We move forward w/ the alternative hypothesis\")\n",
    "else:\n",
    "    print(\"We fail to reject the null hypothesis\")"
   ]
  },
  {
   "cell_type": "code",
   "execution_count": 17,
   "metadata": {
    "ExecuteTime": {
     "end_time": "2021-02-11T20:10:11.115346Z",
     "start_time": "2021-02-11T20:10:11.089256Z"
    }
   },
   "outputs": [
    {
     "data": {
      "text/plain": [
       "(-2.6252287036468456, 0.005104926224619695)"
      ]
     },
     "execution_count": 17,
     "metadata": {},
     "output_type": "execute_result"
    }
   ],
   "source": [
    "null_hypo = 'The average time it takes to sell a home is not different for both offices'\n",
    "alt_hypo_less_than = 'The average time to sell for office A is LESS than office B'\n",
    "confidence_level = 0.95\n",
    "a = 1 - confidence_level \n",
    "t,p = stats.ttest_ind_from_stats(mean1,std1,sample1,mean2,std2,sample2, alternative='less')\n",
    "t,p"
   ]
  },
  {
   "cell_type": "code",
   "execution_count": 18,
   "metadata": {
    "ExecuteTime": {
     "end_time": "2021-02-11T20:10:18.416846Z",
     "start_time": "2021-02-11T20:10:18.407079Z"
    }
   },
   "outputs": [
    {
     "name": "stdout",
     "output_type": "stream",
     "text": [
      "We reject the null hypothesis that The average time it takes to sell a home is not different for both offices\n",
      "We move foward with the understanding that The average time to sell for office A is LESS than office B\n"
     ]
    }
   ],
   "source": [
    "if (p/2) < a and t < 0:\n",
    "    print(f\"We reject the null hypothesis that {null_hypo}\")\n",
    "    print(f\"We move foward with the understanding that {alt_hypo_less_than}\")\n",
    "else:\n",
    "    print(\"We fail to reject the null hypothesis\")\n",
    "    print(\"There is insufficient evidence to support the claim\")\n",
    "    "
   ]
  },
  {
   "cell_type": "code",
   "execution_count": 31,
   "metadata": {
    "ExecuteTime": {
     "end_time": "2021-02-11T20:13:58.048106Z",
     "start_time": "2021-02-11T20:13:57.689446Z"
    }
   },
   "outputs": [
    {
     "data": {
      "text/html": [
       "<div>\n",
       "<style scoped>\n",
       "    .dataframe tbody tr th:only-of-type {\n",
       "        vertical-align: middle;\n",
       "    }\n",
       "\n",
       "    .dataframe tbody tr th {\n",
       "        vertical-align: top;\n",
       "    }\n",
       "\n",
       "    .dataframe thead th {\n",
       "        text-align: right;\n",
       "    }\n",
       "</style>\n",
       "<table border=\"1\" class=\"dataframe\">\n",
       "  <thead>\n",
       "    <tr style=\"text-align: right;\">\n",
       "      <th></th>\n",
       "      <th>manufacturer</th>\n",
       "      <th>model</th>\n",
       "      <th>displ</th>\n",
       "      <th>year</th>\n",
       "      <th>cyl</th>\n",
       "      <th>trans</th>\n",
       "      <th>drv</th>\n",
       "      <th>cty</th>\n",
       "      <th>hwy</th>\n",
       "      <th>fl</th>\n",
       "      <th>class</th>\n",
       "    </tr>\n",
       "  </thead>\n",
       "  <tbody>\n",
       "    <tr>\n",
       "      <th>1</th>\n",
       "      <td>audi</td>\n",
       "      <td>a4</td>\n",
       "      <td>1.8</td>\n",
       "      <td>1999</td>\n",
       "      <td>4</td>\n",
       "      <td>auto(l5)</td>\n",
       "      <td>f</td>\n",
       "      <td>18</td>\n",
       "      <td>29</td>\n",
       "      <td>p</td>\n",
       "      <td>compact</td>\n",
       "    </tr>\n",
       "    <tr>\n",
       "      <th>2</th>\n",
       "      <td>audi</td>\n",
       "      <td>a4</td>\n",
       "      <td>1.8</td>\n",
       "      <td>1999</td>\n",
       "      <td>4</td>\n",
       "      <td>manual(m5)</td>\n",
       "      <td>f</td>\n",
       "      <td>21</td>\n",
       "      <td>29</td>\n",
       "      <td>p</td>\n",
       "      <td>compact</td>\n",
       "    </tr>\n",
       "    <tr>\n",
       "      <th>3</th>\n",
       "      <td>audi</td>\n",
       "      <td>a4</td>\n",
       "      <td>2.0</td>\n",
       "      <td>2008</td>\n",
       "      <td>4</td>\n",
       "      <td>manual(m6)</td>\n",
       "      <td>f</td>\n",
       "      <td>20</td>\n",
       "      <td>31</td>\n",
       "      <td>p</td>\n",
       "      <td>compact</td>\n",
       "    </tr>\n",
       "    <tr>\n",
       "      <th>4</th>\n",
       "      <td>audi</td>\n",
       "      <td>a4</td>\n",
       "      <td>2.0</td>\n",
       "      <td>2008</td>\n",
       "      <td>4</td>\n",
       "      <td>auto(av)</td>\n",
       "      <td>f</td>\n",
       "      <td>21</td>\n",
       "      <td>30</td>\n",
       "      <td>p</td>\n",
       "      <td>compact</td>\n",
       "    </tr>\n",
       "    <tr>\n",
       "      <th>5</th>\n",
       "      <td>audi</td>\n",
       "      <td>a4</td>\n",
       "      <td>2.8</td>\n",
       "      <td>1999</td>\n",
       "      <td>6</td>\n",
       "      <td>auto(l5)</td>\n",
       "      <td>f</td>\n",
       "      <td>16</td>\n",
       "      <td>26</td>\n",
       "      <td>p</td>\n",
       "      <td>compact</td>\n",
       "    </tr>\n",
       "  </tbody>\n",
       "</table>\n",
       "</div>"
      ],
      "text/plain": [
       "  manufacturer model  displ  year  cyl       trans drv  cty  hwy fl    class\n",
       "1         audi    a4    1.8  1999    4    auto(l5)   f   18   29  p  compact\n",
       "2         audi    a4    1.8  1999    4  manual(m5)   f   21   29  p  compact\n",
       "3         audi    a4    2.0  2008    4  manual(m6)   f   20   31  p  compact\n",
       "4         audi    a4    2.0  2008    4    auto(av)   f   21   30  p  compact\n",
       "5         audi    a4    2.8  1999    6    auto(l5)   f   16   26  p  compact"
      ]
     },
     "execution_count": 31,
     "metadata": {},
     "output_type": "execute_result"
    }
   ],
   "source": [
    "# - Load the mpg dataset and use it to answer the following questions:\n",
    "mpg = data('mpg')\n",
    "mpg.head()"
   ]
  },
  {
   "cell_type": "code",
   "execution_count": 35,
   "metadata": {
    "ExecuteTime": {
     "end_time": "2021-02-11T20:20:35.953811Z",
     "start_time": "2021-02-11T20:20:35.905213Z"
    }
   },
   "outputs": [
    {
     "data": {
      "text/plain": [
       "1      23.5\n",
       "2      25.0\n",
       "3      25.5\n",
       "4      25.5\n",
       "5      21.0\n",
       "       ... \n",
       "230    23.5\n",
       "231    25.0\n",
       "232    21.0\n",
       "233    22.0\n",
       "234    21.5\n",
       "Name: average_mpg, Length: 234, dtype: float64"
      ]
     },
     "execution_count": 35,
     "metadata": {},
     "output_type": "execute_result"
    }
   ],
   "source": [
    "# - Is there a difference in fuel-efficiency in cars from 2008 vs 1999?\n",
    "mpg['average_mpg'] = (mpg.cty + mpg.hwy)/2\n",
    "mpg.average_mpg"
   ]
  },
  {
   "cell_type": "code",
   "execution_count": 39,
   "metadata": {
    "ExecuteTime": {
     "end_time": "2021-02-11T20:26:44.709599Z",
     "start_time": "2021-02-11T20:26:44.665834Z"
    }
   },
   "outputs": [
    {
     "data": {
      "text/plain": [
       "(0.21960177245940962, 0.8263744040323578)"
      ]
     },
     "execution_count": 39,
     "metadata": {},
     "output_type": "execute_result"
    }
   ],
   "source": [
    "cars_1999 = mpg[mpg.year == 1999]\n",
    "cars_2008 = mpg[mpg.year == 2008]\n",
    "null_hypo = 'There is no difference in average mpg between cars from 1999 and 2008'\n",
    "alt_hypo = 'There is a difference in average mpg between cars from 1999 and 2008'\n",
    "confidence_level = 0.95\n",
    "a = 1 - confidence_level \n",
    "t,p = stats.ttest_ind(cars_1999.average_mpg, cars_2008.average_mpg)\n",
    "t,p"
   ]
  },
  {
   "cell_type": "code",
   "execution_count": 40,
   "metadata": {
    "ExecuteTime": {
     "end_time": "2021-02-11T20:27:07.051228Z",
     "start_time": "2021-02-11T20:27:07.037956Z"
    }
   },
   "outputs": [
    {
     "name": "stdout",
     "output_type": "stream",
     "text": [
      "We fail to reject the null hypothesis\n"
     ]
    }
   ],
   "source": [
    "if p < a:\n",
    "    print(\"We reject the null hypothesis that they are the same\")\n",
    "    print(\"We move forward w/ the alternative hypothesis\")\n",
    "else:\n",
    "    print(\"We fail to reject the null hypothesis\")\n",
    "    "
   ]
  },
  {
   "cell_type": "code",
   "execution_count": 41,
   "metadata": {
    "ExecuteTime": {
     "end_time": "2021-02-11T20:30:06.665323Z",
     "start_time": "2021-02-11T20:30:06.643974Z"
    }
   },
   "outputs": [
    {
     "data": {
      "text/plain": [
       "(20.22222222222222, 20.076923076923077)"
      ]
     },
     "execution_count": 41,
     "metadata": {},
     "output_type": "execute_result"
    }
   ],
   "source": [
    "cars_1999.average_mpg.mean(), cars_2008.average_mpg.mean()"
   ]
  },
  {
   "cell_type": "code",
   "execution_count": 44,
   "metadata": {
    "ExecuteTime": {
     "end_time": "2021-02-11T20:41:01.271676Z",
     "start_time": "2021-02-11T20:41:01.256537Z"
    }
   },
   "outputs": [
    {
     "data": {
      "text/plain": [
       "(7.896888573132535, 4.1985637943171336e-10)"
      ]
     },
     "execution_count": 44,
     "metadata": {},
     "output_type": "execute_result"
    }
   ],
   "source": [
    "# - Are compact cars more fuel-efficient than the average car?\n",
    "null_hypo = 'Average mpg is not greater between compact cars and all cars'\n",
    "alt_hypo = 'Average mpg IS greater between compact cars and all cars'\n",
    "compact = mpg[mpg['class'] == 'compact']\n",
    "t,p = stats.ttest_1samp(compact.average_mpg, mpg.average_mpg.mean(),alternative = 'greaterif (p/2) < a and t > 0:\n",
    "    print(\"Reject the null hypothesis\")\n",
    "else:\n",
    "    print(\"We fail to reject the null hypothesis\")')\n",
    "t,p"
   ]
  },
  {
   "cell_type": "code",
   "execution_count": 45,
   "metadata": {
    "ExecuteTime": {
     "end_time": "2021-02-11T20:42:46.326983Z",
     "start_time": "2021-02-11T20:42:46.321320Z"
    }
   },
   "outputs": [
    {
     "name": "stdout",
     "output_type": "stream",
     "text": [
      "We reject the null hypothesis that they are the same\n",
      "We move forward w/ the alternative hypothesis\n"
     ]
    }
   ],
   "source": [
    "if p < a:\n",
    "    print(\"We reject the null hypothesis that they are the same\")\n",
    "    print(\"We move forward w/ the alternative hypothesis\")\n",
    "else:\n",
    "    print(\"We fail to reject the null hypothesis\")\n",
    "    "
   ]
  },
  {
   "cell_type": "code",
   "execution_count": null,
   "metadata": {},
   "outputs": [],
   "source": [
    "# - Do manual cars get better gas mileage than automatic cars?"
   ]
  },
  {
   "cell_type": "code",
   "execution_count": null,
   "metadata": {},
   "outputs": [],
   "source": [
    "#3. \n",
    "#3-1. Use the telco_churn data. Does tenure correlate with monthly charges? Total charges? \n",
    "# What happens if you control for phone and internet service?\n",
    "\n",
    "#3-2. Use the employees database.\n",
    "# - Is there a relationship between how long an employee has been with the company and their salary?\n",
    "# - Is there a relationship between how long an employee has been with the company and the number of titles they have had?\n",
    "#3-3.Use the sleepstudy data. Is there a relationship between days and reaction time?"
   ]
  }
 ],
 "metadata": {
  "kernelspec": {
   "display_name": "Python 3",
   "language": "python",
   "name": "python3"
  },
  "language_info": {
   "codemirror_mode": {
    "name": "ipython",
    "version": 3
   },
   "file_extension": ".py",
   "mimetype": "text/x-python",
   "name": "python",
   "nbconvert_exporter": "python",
   "pygments_lexer": "ipython3",
   "version": "3.8.5"
  },
  "varInspector": {
   "cols": {
    "lenName": 16,
    "lenType": 16,
    "lenVar": 40
   },
   "kernels_config": {
    "python": {
     "delete_cmd_postfix": "",
     "delete_cmd_prefix": "del ",
     "library": "var_list.py",
     "varRefreshCmd": "print(var_dic_list())"
    },
    "r": {
     "delete_cmd_postfix": ") ",
     "delete_cmd_prefix": "rm(",
     "library": "var_list.r",
     "varRefreshCmd": "cat(var_dic_list()) "
    }
   },
   "types_to_exclude": [
    "module",
    "function",
    "builtin_function_or_method",
    "instance",
    "_Feature"
   ],
   "window_display": false
  }
 },
 "nbformat": 4,
 "nbformat_minor": 4
}
