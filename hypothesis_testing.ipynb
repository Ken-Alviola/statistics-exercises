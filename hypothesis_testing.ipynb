{
 "cells": [
  {
   "cell_type": "code",
   "execution_count": 1,
   "metadata": {
    "ExecuteTime": {
     "end_time": "2021-02-10T18:21:43.390062Z",
     "start_time": "2021-02-10T18:21:43.366800Z"
    }
   },
   "outputs": [],
   "source": [
    "import pandas as pd\n",
    "import numpy as np\n",
    "import matplotlib.pyplot as plt\n",
    "from scipy import stats\n",
    "from env import host, user, password\n",
    "\n",
    "def get_db_url(user, host, password, db):\n",
    "    url = f'mysql+pymysql://{user}:{password}@{host}/{db}'\n",
    "    return url"
   ]
  },
  {
   "cell_type": "code",
   "execution_count": null,
   "metadata": {},
   "outputs": [],
   "source": [
    "#1. For each of the following questions, formulate a null and alternative hypothesis\n",
    "# (be as specific as you can be), then give an example of what a true positive, true negative, \n",
    "# type I and type II errors would look like. Note that some of the questions are intentionally phrased in a vague way.\n",
    "# It is your job to reword these as more precise questions that could be tested.\n",
    "\n",
    "# - Has the network latency gone up since we switched internet service providers?\n",
    "# - Is the website redesign any good?\n",
    "# - Is our television ad driving more sales?"
   ]
  },
  {
   "cell_type": "code",
   "execution_count": null,
   "metadata": {},
   "outputs": [],
   "source": [
    "#2. Ace Realty wants to determine whether the average time it takes to sell homes is different for its two offices. A sample of 40 sales from office #1 revealed a mean of 90 days and a standard deviation of 15 days. A sample of 50 sales from office #2 revealed a mean of 100 days and a standard deviation of 20 days. Use a .05 level of significance.\n",
    "\n",
    "# - Load the mpg dataset and use it to answer the following questions:\n",
    "\n",
    "# - Is there a difference in fuel-efficiency in cars from 2008 vs 1999?\n",
    "# - Are compact cars more fuel-efficient than the average car?\n",
    "# - Do manual cars get better gas mileage than automatic cars?"
   ]
  },
  {
   "cell_type": "code",
   "execution_count": null,
   "metadata": {},
   "outputs": [],
   "source": [
    "#3. \n",
    "#3-1. Use the telco_churn data. Does tenure correlate with monthly charges? Total charges? \n",
    "# What happens if you control for phone and internet service?\n",
    "\n",
    "#3-2. Use the employees database.\n",
    "# - Is there a relationship between how long an employee has been with the company and their salary?\n",
    "# - Is there a relationship between how long an employee has been with the company and the number of titles they have had?\n",
    "#3-3.Use the sleepstudy data. Is there a relationship between days and reaction time?"
   ]
  }
 ],
 "metadata": {
  "kernelspec": {
   "display_name": "Python 3",
   "language": "python",
   "name": "python3"
  },
  "language_info": {
   "codemirror_mode": {
    "name": "ipython",
    "version": 3
   },
   "file_extension": ".py",
   "mimetype": "text/x-python",
   "name": "python",
   "nbconvert_exporter": "python",
   "pygments_lexer": "ipython3",
   "version": "3.8.5"
  },
  "varInspector": {
   "cols": {
    "lenName": 16,
    "lenType": 16,
    "lenVar": 40
   },
   "kernels_config": {
    "python": {
     "delete_cmd_postfix": "",
     "delete_cmd_prefix": "del ",
     "library": "var_list.py",
     "varRefreshCmd": "print(var_dic_list())"
    },
    "r": {
     "delete_cmd_postfix": ") ",
     "delete_cmd_prefix": "rm(",
     "library": "var_list.r",
     "varRefreshCmd": "cat(var_dic_list()) "
    }
   },
   "types_to_exclude": [
    "module",
    "function",
    "builtin_function_or_method",
    "instance",
    "_Feature"
   ],
   "window_display": false
  }
 },
 "nbformat": 4,
 "nbformat_minor": 4
}
