{
 "cells": [
  {
   "cell_type": "code",
   "execution_count": 1,
   "metadata": {
    "ExecuteTime": {
     "end_time": "2021-02-11T21:16:18.135583Z",
     "start_time": "2021-02-11T21:16:18.046547Z"
    }
   },
   "outputs": [],
   "source": [
    "import pandas as pd\n",
    "import numpy as np\n",
    "import matplotlib.pyplot as plt\n",
    "from scipy import stats\n",
    "from env import host, user, password\n",
    "from pydataset import data\n",
    "\n",
    "def get_db_url(user, host, password, db):\n",
    "    url = f'mysql+pymysql://{user}:{password}@{host}/{db}'\n",
    "    return url"
   ]
  },
  {
   "cell_type": "code",
   "execution_count": 2,
   "metadata": {
    "ExecuteTime": {
     "end_time": "2021-02-11T21:16:18.142718Z",
     "start_time": "2021-02-11T21:16:18.138611Z"
    }
   },
   "outputs": [],
   "source": [
    "#1. For each of the following questions, formulate a null and alternative hypothesis\n",
    "# (be as specific as you can be), then give an example of what a true positive, true negative, \n",
    "# type I and type II errors would look like. Note that some of the questions are intentionally phrased in a vague way.\n",
    "# It is your job to reword these as more precise questions that could be tested.\n",
    "\n",
    "# - Has the network latency gone up since we switched internet service providers?\n",
    "null_hypo = 'The network latency has not changed after switching ISP'\n",
    "alt_hypo = 'The network latency has increased after switching ISP'\n",
    "true_pos = 'I believe the network latency has increased and in reality it has increased'\n",
    "true_neg = 'I believe the network lag has not increased and after test it has not'\n",
    "type_1 = 'I hypothesized that the network lag has increased but in reality it has not'\n",
    "type_2 = 'I hypothesized that the network lag has not increased but in reality it has'\n",
    "\n",
    "# - Is the website redesign any good?\n",
    "null_hypo = 'The website redesign has not improved' #be more specific\n",
    "alt_hypo = 'The website redesign has improved'\n",
    "true_pos = 'The website redesign has improved and everyone likes it'\n",
    "true_neg = 'The website redesign has not improved and everyone hates it'\n",
    "type_1 = 'I hypothesized that the website redesign has improved but everyone hates it'\n",
    "type_2 = 'I hypothesized that the website redesign has not improved but everyone likes it'\n",
    "\n",
    "# - Is our television ad driving more sales?\n",
    "null_hypo = 'The tv ad has no impact on sales'\n",
    "alt_hypo = 'The tv ad has an impact on sales'\n",
    "true_pos = 'I believe the tv ad has an impact on sales and sales are up'\n",
    "true_neg = 'I believe the tv ad has no impact on sales and sales are flat'\n",
    "type_1 = 'I hypothesized that the tv ad has an impact on sales but sales are flat'\n",
    "type_2 = 'I hypothesized that the tv ad has no impact on sales but sales are up'"
   ]
  },
  {
   "cell_type": "code",
   "execution_count": 3,
   "metadata": {
    "ExecuteTime": {
     "end_time": "2021-02-11T21:16:18.151772Z",
     "start_time": "2021-02-11T21:16:18.147082Z"
    }
   },
   "outputs": [],
   "source": [
    "#2. Ace Realty wants to determine whether the average time it takes to sell homes is different for its \n",
    "# two offices. A sample of 40 sales from office #1 revealed a mean of 90 days and a standard deviation of 15 days.\n",
    "# A sample of 50 sales from office #2 revealed a mean of 100 days and a standard deviation of 20 days. \n",
    "# Use a .05 level of significance.\n",
    "\n",
    "null_hypo = 'The average time it takes to sell a home is not different for both offices'\n",
    "alt_hypo = 'The average time to sell is different between both offices'\n",
    "confidence_level = 0.95\n",
    "a = 1 - confidence_level \n",
    "\n",
    "sample1 = 40\n",
    "mean1 = 90\n",
    "std1 = 15\n",
    "sample2 = 50\n",
    "mean2 = 100\n",
    "std2 = 20"
   ]
  },
  {
   "cell_type": "code",
   "execution_count": 4,
   "metadata": {
    "ExecuteTime": {
     "end_time": "2021-02-11T21:16:18.163339Z",
     "start_time": "2021-02-11T21:16:18.154466Z"
    }
   },
   "outputs": [
    {
     "data": {
      "text/plain": [
       "(-2.6252287036468456, 0.01020985244923939)"
      ]
     },
     "execution_count": 4,
     "metadata": {},
     "output_type": "execute_result"
    }
   ],
   "source": [
    "t,p = stats.ttest_ind_from_stats(mean1,std1,sample1,mean2,std2,sample2)\n",
    "t,p"
   ]
  },
  {
   "cell_type": "code",
   "execution_count": 5,
   "metadata": {
    "ExecuteTime": {
     "end_time": "2021-02-11T21:16:18.172915Z",
     "start_time": "2021-02-11T21:16:18.167347Z"
    }
   },
   "outputs": [
    {
     "name": "stdout",
     "output_type": "stream",
     "text": [
      "We reject the null hypothesis that they are the same\n",
      "We move forward w/ the alternative hypothesis\n"
     ]
    }
   ],
   "source": [
    "if p < a:\n",
    "    print(\"We reject the null hypothesis that they are the same\")\n",
    "    print(\"We move forward w/ the alternative hypothesis\")\n",
    "else:\n",
    "    print(\"We fail to reject the null hypothesis\")"
   ]
  },
  {
   "cell_type": "code",
   "execution_count": 6,
   "metadata": {
    "ExecuteTime": {
     "end_time": "2021-02-11T21:16:18.184130Z",
     "start_time": "2021-02-11T21:16:18.175346Z"
    }
   },
   "outputs": [
    {
     "data": {
      "text/plain": [
       "(-2.6252287036468456, 0.01020985244923939)"
      ]
     },
     "execution_count": 6,
     "metadata": {},
     "output_type": "execute_result"
    }
   ],
   "source": [
    "null_hypo = 'The average time it takes to sell a home is not different for both offices'\n",
    "alt_hypo_less_than = 'The average time to sell for office A is LESS than office B'\n",
    "confidence_level = 0.95\n",
    "a = 1 - confidence_level \n",
    "t,p = stats.ttest_ind_from_stats(mean1,std1,sample1,mean2,std2,sample2)\n",
    "t,p"
   ]
  },
  {
   "cell_type": "code",
   "execution_count": 7,
   "metadata": {
    "ExecuteTime": {
     "end_time": "2021-02-11T21:16:18.198707Z",
     "start_time": "2021-02-11T21:16:18.192528Z"
    }
   },
   "outputs": [
    {
     "name": "stdout",
     "output_type": "stream",
     "text": [
      "We reject the null hypothesis that The average time it takes to sell a home is not different for both offices\n",
      "We move foward with the understanding that The average time to sell for office A is LESS than office B\n"
     ]
    }
   ],
   "source": [
    "if (p/2) < a and t < 0:\n",
    "    print(f\"We reject the null hypothesis that {null_hypo}\")\n",
    "    print(f\"We move foward with the understanding that {alt_hypo_less_than}\")\n",
    "else:\n",
    "    print(\"We fail to reject the null hypothesis\")\n",
    "    print(\"There is insufficient evidence to support the claim\")\n",
    "    "
   ]
  },
  {
   "cell_type": "code",
   "execution_count": 8,
   "metadata": {
    "ExecuteTime": {
     "end_time": "2021-02-11T21:16:18.250042Z",
     "start_time": "2021-02-11T21:16:18.210223Z"
    }
   },
   "outputs": [
    {
     "data": {
      "text/html": [
       "<div>\n",
       "<style scoped>\n",
       "    .dataframe tbody tr th:only-of-type {\n",
       "        vertical-align: middle;\n",
       "    }\n",
       "\n",
       "    .dataframe tbody tr th {\n",
       "        vertical-align: top;\n",
       "    }\n",
       "\n",
       "    .dataframe thead th {\n",
       "        text-align: right;\n",
       "    }\n",
       "</style>\n",
       "<table border=\"1\" class=\"dataframe\">\n",
       "  <thead>\n",
       "    <tr style=\"text-align: right;\">\n",
       "      <th></th>\n",
       "      <th>manufacturer</th>\n",
       "      <th>model</th>\n",
       "      <th>displ</th>\n",
       "      <th>year</th>\n",
       "      <th>cyl</th>\n",
       "      <th>trans</th>\n",
       "      <th>drv</th>\n",
       "      <th>cty</th>\n",
       "      <th>hwy</th>\n",
       "      <th>fl</th>\n",
       "      <th>class</th>\n",
       "    </tr>\n",
       "  </thead>\n",
       "  <tbody>\n",
       "    <tr>\n",
       "      <th>1</th>\n",
       "      <td>audi</td>\n",
       "      <td>a4</td>\n",
       "      <td>1.8</td>\n",
       "      <td>1999</td>\n",
       "      <td>4</td>\n",
       "      <td>auto(l5)</td>\n",
       "      <td>f</td>\n",
       "      <td>18</td>\n",
       "      <td>29</td>\n",
       "      <td>p</td>\n",
       "      <td>compact</td>\n",
       "    </tr>\n",
       "    <tr>\n",
       "      <th>2</th>\n",
       "      <td>audi</td>\n",
       "      <td>a4</td>\n",
       "      <td>1.8</td>\n",
       "      <td>1999</td>\n",
       "      <td>4</td>\n",
       "      <td>manual(m5)</td>\n",
       "      <td>f</td>\n",
       "      <td>21</td>\n",
       "      <td>29</td>\n",
       "      <td>p</td>\n",
       "      <td>compact</td>\n",
       "    </tr>\n",
       "    <tr>\n",
       "      <th>3</th>\n",
       "      <td>audi</td>\n",
       "      <td>a4</td>\n",
       "      <td>2.0</td>\n",
       "      <td>2008</td>\n",
       "      <td>4</td>\n",
       "      <td>manual(m6)</td>\n",
       "      <td>f</td>\n",
       "      <td>20</td>\n",
       "      <td>31</td>\n",
       "      <td>p</td>\n",
       "      <td>compact</td>\n",
       "    </tr>\n",
       "    <tr>\n",
       "      <th>4</th>\n",
       "      <td>audi</td>\n",
       "      <td>a4</td>\n",
       "      <td>2.0</td>\n",
       "      <td>2008</td>\n",
       "      <td>4</td>\n",
       "      <td>auto(av)</td>\n",
       "      <td>f</td>\n",
       "      <td>21</td>\n",
       "      <td>30</td>\n",
       "      <td>p</td>\n",
       "      <td>compact</td>\n",
       "    </tr>\n",
       "    <tr>\n",
       "      <th>5</th>\n",
       "      <td>audi</td>\n",
       "      <td>a4</td>\n",
       "      <td>2.8</td>\n",
       "      <td>1999</td>\n",
       "      <td>6</td>\n",
       "      <td>auto(l5)</td>\n",
       "      <td>f</td>\n",
       "      <td>16</td>\n",
       "      <td>26</td>\n",
       "      <td>p</td>\n",
       "      <td>compact</td>\n",
       "    </tr>\n",
       "  </tbody>\n",
       "</table>\n",
       "</div>"
      ],
      "text/plain": [
       "  manufacturer model  displ  year  cyl       trans drv  cty  hwy fl    class\n",
       "1         audi    a4    1.8  1999    4    auto(l5)   f   18   29  p  compact\n",
       "2         audi    a4    1.8  1999    4  manual(m5)   f   21   29  p  compact\n",
       "3         audi    a4    2.0  2008    4  manual(m6)   f   20   31  p  compact\n",
       "4         audi    a4    2.0  2008    4    auto(av)   f   21   30  p  compact\n",
       "5         audi    a4    2.8  1999    6    auto(l5)   f   16   26  p  compact"
      ]
     },
     "execution_count": 8,
     "metadata": {},
     "output_type": "execute_result"
    }
   ],
   "source": [
    "# - Load the mpg dataset and use it to answer the following questions:\n",
    "mpg = data('mpg')\n",
    "mpg.head()"
   ]
  },
  {
   "cell_type": "code",
   "execution_count": 9,
   "metadata": {
    "ExecuteTime": {
     "end_time": "2021-02-11T21:16:18.288629Z",
     "start_time": "2021-02-11T21:16:18.253841Z"
    }
   },
   "outputs": [
    {
     "data": {
      "text/plain": [
       "1      23.5\n",
       "2      25.0\n",
       "3      25.5\n",
       "4      25.5\n",
       "5      21.0\n",
       "       ... \n",
       "230    23.5\n",
       "231    25.0\n",
       "232    21.0\n",
       "233    22.0\n",
       "234    21.5\n",
       "Name: average_mpg, Length: 234, dtype: float64"
      ]
     },
     "execution_count": 9,
     "metadata": {},
     "output_type": "execute_result"
    }
   ],
   "source": [
    "# - Is there a difference in fuel-efficiency in cars from 2008 vs 1999?\n",
    "mpg['average_mpg'] = (mpg.cty + mpg.hwy)/2\n",
    "mpg.average_mpg"
   ]
  },
  {
   "cell_type": "code",
   "execution_count": 10,
   "metadata": {
    "ExecuteTime": {
     "end_time": "2021-02-11T21:16:18.307382Z",
     "start_time": "2021-02-11T21:16:18.292297Z"
    }
   },
   "outputs": [
    {
     "data": {
      "text/plain": [
       "(0.21960177245940962, 0.8263744040323578)"
      ]
     },
     "execution_count": 10,
     "metadata": {},
     "output_type": "execute_result"
    }
   ],
   "source": [
    "cars_1999 = mpg[mpg.year == 1999]\n",
    "cars_2008 = mpg[mpg.year == 2008]\n",
    "null_hypo = 'There is no difference in average mpg between cars from 1999 and 2008'\n",
    "alt_hypo = 'There is a difference in average mpg between cars from 1999 and 2008'\n",
    "confidence_level = 0.95\n",
    "a = 1 - confidence_level \n",
    "t,p = stats.ttest_ind(cars_1999.average_mpg, cars_2008.average_mpg)\n",
    "t,p"
   ]
  },
  {
   "cell_type": "code",
   "execution_count": 11,
   "metadata": {
    "ExecuteTime": {
     "end_time": "2021-02-11T21:16:18.314870Z",
     "start_time": "2021-02-11T21:16:18.310148Z"
    }
   },
   "outputs": [
    {
     "name": "stdout",
     "output_type": "stream",
     "text": [
      "We fail to reject the null hypothesis\n"
     ]
    }
   ],
   "source": [
    "if p < a:\n",
    "    print(\"We reject the null hypothesis that they are the same\")\n",
    "    print(\"We move forward w/ the alternative hypothesis\")\n",
    "else:\n",
    "    print(\"We fail to reject the null hypothesis\")\n",
    "    "
   ]
  },
  {
   "cell_type": "code",
   "execution_count": 12,
   "metadata": {
    "ExecuteTime": {
     "end_time": "2021-02-11T21:16:18.328573Z",
     "start_time": "2021-02-11T21:16:18.318884Z"
    }
   },
   "outputs": [
    {
     "data": {
      "text/plain": [
       "(20.22222222222222, 20.076923076923077)"
      ]
     },
     "execution_count": 12,
     "metadata": {},
     "output_type": "execute_result"
    }
   ],
   "source": [
    "cars_1999.average_mpg.mean(), cars_2008.average_mpg.mean()"
   ]
  },
  {
   "cell_type": "code",
   "execution_count": 13,
   "metadata": {
    "ExecuteTime": {
     "end_time": "2021-02-11T21:16:18.339183Z",
     "start_time": "2021-02-11T21:16:18.331181Z"
    }
   },
   "outputs": [
    {
     "data": {
      "text/plain": [
       "(7.896888573132535, 4.1985637943171336e-10)"
      ]
     },
     "execution_count": 13,
     "metadata": {},
     "output_type": "execute_result"
    }
   ],
   "source": [
    "# - Are compact cars more fuel-efficient than the average car?\n",
    "null_hypo = 'Average mpg is not greater between compact cars and all cars'\n",
    "alt_hypo = 'Average mpg IS greater between compact cars and all cars'\n",
    "compact = mpg[mpg['class'] == 'compact']\n",
    "t,p = stats.ttest_1samp(compact.average_mpg, mpg.average_mpg.mean())\n",
    "t,p"
   ]
  },
  {
   "cell_type": "code",
   "execution_count": 14,
   "metadata": {
    "ExecuteTime": {
     "end_time": "2021-02-11T21:16:18.348593Z",
     "start_time": "2021-02-11T21:16:18.342264Z"
    }
   },
   "outputs": [
    {
     "name": "stdout",
     "output_type": "stream",
     "text": [
      "Reject the null hypothesis\n"
     ]
    }
   ],
   "source": [
    "if (p/2) < a and t > 0:\n",
    "    print(\"Reject the null hypothesis\")\n",
    "else:\n",
    "    print(\"We fail to reject the null hypothesis\")\n",
    "    "
   ]
  },
  {
   "cell_type": "code",
   "execution_count": 15,
   "metadata": {
    "ExecuteTime": {
     "end_time": "2021-02-11T21:16:18.362091Z",
     "start_time": "2021-02-11T21:16:18.351195Z"
    }
   },
   "outputs": [
    {
     "data": {
      "text/plain": [
       "(24.21276595744681, 20.14957264957265)"
      ]
     },
     "execution_count": 15,
     "metadata": {},
     "output_type": "execute_result"
    }
   ],
   "source": [
    "compact.average_mpg.mean(), mpg.average_mpg.mean()"
   ]
  },
  {
   "cell_type": "code",
   "execution_count": 16,
   "metadata": {
    "ExecuteTime": {
     "end_time": "2021-02-11T21:16:18.395529Z",
     "start_time": "2021-02-11T21:16:18.365781Z"
    }
   },
   "outputs": [
    {
     "data": {
      "text/html": [
       "<div>\n",
       "<style scoped>\n",
       "    .dataframe tbody tr th:only-of-type {\n",
       "        vertical-align: middle;\n",
       "    }\n",
       "\n",
       "    .dataframe tbody tr th {\n",
       "        vertical-align: top;\n",
       "    }\n",
       "\n",
       "    .dataframe thead th {\n",
       "        text-align: right;\n",
       "    }\n",
       "</style>\n",
       "<table border=\"1\" class=\"dataframe\">\n",
       "  <thead>\n",
       "    <tr style=\"text-align: right;\">\n",
       "      <th></th>\n",
       "      <th>manufacturer</th>\n",
       "      <th>model</th>\n",
       "      <th>displ</th>\n",
       "      <th>year</th>\n",
       "      <th>cyl</th>\n",
       "      <th>trans</th>\n",
       "      <th>drv</th>\n",
       "      <th>cty</th>\n",
       "      <th>hwy</th>\n",
       "      <th>fl</th>\n",
       "      <th>class</th>\n",
       "      <th>average_mpg</th>\n",
       "    </tr>\n",
       "  </thead>\n",
       "  <tbody>\n",
       "    <tr>\n",
       "      <th>2</th>\n",
       "      <td>audi</td>\n",
       "      <td>a4</td>\n",
       "      <td>1.8</td>\n",
       "      <td>1999</td>\n",
       "      <td>4</td>\n",
       "      <td>manual(m5)</td>\n",
       "      <td>f</td>\n",
       "      <td>21</td>\n",
       "      <td>29</td>\n",
       "      <td>p</td>\n",
       "      <td>compact</td>\n",
       "      <td>25.0</td>\n",
       "    </tr>\n",
       "    <tr>\n",
       "      <th>3</th>\n",
       "      <td>audi</td>\n",
       "      <td>a4</td>\n",
       "      <td>2.0</td>\n",
       "      <td>2008</td>\n",
       "      <td>4</td>\n",
       "      <td>manual(m6)</td>\n",
       "      <td>f</td>\n",
       "      <td>20</td>\n",
       "      <td>31</td>\n",
       "      <td>p</td>\n",
       "      <td>compact</td>\n",
       "      <td>25.5</td>\n",
       "    </tr>\n",
       "    <tr>\n",
       "      <th>6</th>\n",
       "      <td>audi</td>\n",
       "      <td>a4</td>\n",
       "      <td>2.8</td>\n",
       "      <td>1999</td>\n",
       "      <td>6</td>\n",
       "      <td>manual(m5)</td>\n",
       "      <td>f</td>\n",
       "      <td>18</td>\n",
       "      <td>26</td>\n",
       "      <td>p</td>\n",
       "      <td>compact</td>\n",
       "      <td>22.0</td>\n",
       "    </tr>\n",
       "    <tr>\n",
       "      <th>8</th>\n",
       "      <td>audi</td>\n",
       "      <td>a4 quattro</td>\n",
       "      <td>1.8</td>\n",
       "      <td>1999</td>\n",
       "      <td>4</td>\n",
       "      <td>manual(m5)</td>\n",
       "      <td>4</td>\n",
       "      <td>18</td>\n",
       "      <td>26</td>\n",
       "      <td>p</td>\n",
       "      <td>compact</td>\n",
       "      <td>22.0</td>\n",
       "    </tr>\n",
       "    <tr>\n",
       "      <th>10</th>\n",
       "      <td>audi</td>\n",
       "      <td>a4 quattro</td>\n",
       "      <td>2.0</td>\n",
       "      <td>2008</td>\n",
       "      <td>4</td>\n",
       "      <td>manual(m6)</td>\n",
       "      <td>4</td>\n",
       "      <td>20</td>\n",
       "      <td>28</td>\n",
       "      <td>p</td>\n",
       "      <td>compact</td>\n",
       "      <td>24.0</td>\n",
       "    </tr>\n",
       "  </tbody>\n",
       "</table>\n",
       "</div>"
      ],
      "text/plain": [
       "   manufacturer       model  displ  year  cyl       trans drv  cty  hwy fl  \\\n",
       "2          audi          a4    1.8  1999    4  manual(m5)   f   21   29  p   \n",
       "3          audi          a4    2.0  2008    4  manual(m6)   f   20   31  p   \n",
       "6          audi          a4    2.8  1999    6  manual(m5)   f   18   26  p   \n",
       "8          audi  a4 quattro    1.8  1999    4  manual(m5)   4   18   26  p   \n",
       "10         audi  a4 quattro    2.0  2008    4  manual(m6)   4   20   28  p   \n",
       "\n",
       "      class  average_mpg  \n",
       "2   compact         25.0  \n",
       "3   compact         25.5  \n",
       "6   compact         22.0  \n",
       "8   compact         22.0  \n",
       "10  compact         24.0  "
      ]
     },
     "execution_count": 16,
     "metadata": {},
     "output_type": "execute_result"
    }
   ],
   "source": [
    "# - Do manual cars get better gas mileage than automatic cars?\n",
    "manual = mpg[mpg.trans.str.contains('man')]\n",
    "manual.head()"
   ]
  },
  {
   "cell_type": "code",
   "execution_count": 17,
   "metadata": {
    "ExecuteTime": {
     "end_time": "2021-02-11T21:16:18.421750Z",
     "start_time": "2021-02-11T21:16:18.399309Z"
    }
   },
   "outputs": [
    {
     "data": {
      "text/html": [
       "<div>\n",
       "<style scoped>\n",
       "    .dataframe tbody tr th:only-of-type {\n",
       "        vertical-align: middle;\n",
       "    }\n",
       "\n",
       "    .dataframe tbody tr th {\n",
       "        vertical-align: top;\n",
       "    }\n",
       "\n",
       "    .dataframe thead th {\n",
       "        text-align: right;\n",
       "    }\n",
       "</style>\n",
       "<table border=\"1\" class=\"dataframe\">\n",
       "  <thead>\n",
       "    <tr style=\"text-align: right;\">\n",
       "      <th></th>\n",
       "      <th>manufacturer</th>\n",
       "      <th>model</th>\n",
       "      <th>displ</th>\n",
       "      <th>year</th>\n",
       "      <th>cyl</th>\n",
       "      <th>trans</th>\n",
       "      <th>drv</th>\n",
       "      <th>cty</th>\n",
       "      <th>hwy</th>\n",
       "      <th>fl</th>\n",
       "      <th>class</th>\n",
       "      <th>average_mpg</th>\n",
       "    </tr>\n",
       "  </thead>\n",
       "  <tbody>\n",
       "    <tr>\n",
       "      <th>1</th>\n",
       "      <td>audi</td>\n",
       "      <td>a4</td>\n",
       "      <td>1.8</td>\n",
       "      <td>1999</td>\n",
       "      <td>4</td>\n",
       "      <td>auto(l5)</td>\n",
       "      <td>f</td>\n",
       "      <td>18</td>\n",
       "      <td>29</td>\n",
       "      <td>p</td>\n",
       "      <td>compact</td>\n",
       "      <td>23.5</td>\n",
       "    </tr>\n",
       "    <tr>\n",
       "      <th>4</th>\n",
       "      <td>audi</td>\n",
       "      <td>a4</td>\n",
       "      <td>2.0</td>\n",
       "      <td>2008</td>\n",
       "      <td>4</td>\n",
       "      <td>auto(av)</td>\n",
       "      <td>f</td>\n",
       "      <td>21</td>\n",
       "      <td>30</td>\n",
       "      <td>p</td>\n",
       "      <td>compact</td>\n",
       "      <td>25.5</td>\n",
       "    </tr>\n",
       "    <tr>\n",
       "      <th>5</th>\n",
       "      <td>audi</td>\n",
       "      <td>a4</td>\n",
       "      <td>2.8</td>\n",
       "      <td>1999</td>\n",
       "      <td>6</td>\n",
       "      <td>auto(l5)</td>\n",
       "      <td>f</td>\n",
       "      <td>16</td>\n",
       "      <td>26</td>\n",
       "      <td>p</td>\n",
       "      <td>compact</td>\n",
       "      <td>21.0</td>\n",
       "    </tr>\n",
       "    <tr>\n",
       "      <th>7</th>\n",
       "      <td>audi</td>\n",
       "      <td>a4</td>\n",
       "      <td>3.1</td>\n",
       "      <td>2008</td>\n",
       "      <td>6</td>\n",
       "      <td>auto(av)</td>\n",
       "      <td>f</td>\n",
       "      <td>18</td>\n",
       "      <td>27</td>\n",
       "      <td>p</td>\n",
       "      <td>compact</td>\n",
       "      <td>22.5</td>\n",
       "    </tr>\n",
       "    <tr>\n",
       "      <th>9</th>\n",
       "      <td>audi</td>\n",
       "      <td>a4 quattro</td>\n",
       "      <td>1.8</td>\n",
       "      <td>1999</td>\n",
       "      <td>4</td>\n",
       "      <td>auto(l5)</td>\n",
       "      <td>4</td>\n",
       "      <td>16</td>\n",
       "      <td>25</td>\n",
       "      <td>p</td>\n",
       "      <td>compact</td>\n",
       "      <td>20.5</td>\n",
       "    </tr>\n",
       "  </tbody>\n",
       "</table>\n",
       "</div>"
      ],
      "text/plain": [
       "  manufacturer       model  displ  year  cyl     trans drv  cty  hwy fl  \\\n",
       "1         audi          a4    1.8  1999    4  auto(l5)   f   18   29  p   \n",
       "4         audi          a4    2.0  2008    4  auto(av)   f   21   30  p   \n",
       "5         audi          a4    2.8  1999    6  auto(l5)   f   16   26  p   \n",
       "7         audi          a4    3.1  2008    6  auto(av)   f   18   27  p   \n",
       "9         audi  a4 quattro    1.8  1999    4  auto(l5)   4   16   25  p   \n",
       "\n",
       "     class  average_mpg  \n",
       "1  compact         23.5  \n",
       "4  compact         25.5  \n",
       "5  compact         21.0  \n",
       "7  compact         22.5  \n",
       "9  compact         20.5  "
      ]
     },
     "execution_count": 17,
     "metadata": {},
     "output_type": "execute_result"
    }
   ],
   "source": [
    "auto = mpg[mpg.trans.str.contains('auto')]\n",
    "auto.head()"
   ]
  },
  {
   "cell_type": "code",
   "execution_count": 18,
   "metadata": {
    "ExecuteTime": {
     "end_time": "2021-02-11T21:16:18.441966Z",
     "start_time": "2021-02-11T21:16:18.429584Z"
    }
   },
   "outputs": [
    {
     "data": {
      "text/plain": [
       "(4.593437735750014, 7.154374401145683e-06)"
      ]
     },
     "execution_count": 18,
     "metadata": {},
     "output_type": "execute_result"
    }
   ],
   "source": [
    "null_hypo = 'Average mpg is not greater for manual cars than auto cars'\n",
    "alt_hypo = 'Average mpg IS greater for manual cars and auto cars'\n",
    "t,p = stats.ttest_ind(manual.average_mpg,auto.average_mpg)\n",
    "t,p"
   ]
  },
  {
   "cell_type": "code",
   "execution_count": 19,
   "metadata": {
    "ExecuteTime": {
     "end_time": "2021-02-11T21:16:18.450968Z",
     "start_time": "2021-02-11T21:16:18.446369Z"
    }
   },
   "outputs": [
    {
     "name": "stdout",
     "output_type": "stream",
     "text": [
      "Reject the null hypothesis\n"
     ]
    }
   ],
   "source": [
    "if (p/2) < a and t > 0:\n",
    "    print(\"Reject the null hypothesis\")\n",
    "else:\n",
    "    print(\"We fail to reject the null hypothesis\")\n",
    "    "
   ]
  },
  {
   "cell_type": "code",
   "execution_count": 20,
   "metadata": {
    "ExecuteTime": {
     "end_time": "2021-02-11T21:16:18.463077Z",
     "start_time": "2021-02-11T21:16:18.453523Z"
    }
   },
   "outputs": [
    {
     "data": {
      "text/plain": [
       "(22.227272727272727, 19.130573248407643)"
      ]
     },
     "execution_count": 20,
     "metadata": {},
     "output_type": "execute_result"
    }
   ],
   "source": [
    "manual.average_mpg.mean(),auto.average_mpg.mean()"
   ]
  },
  {
   "cell_type": "code",
   "execution_count": 21,
   "metadata": {
    "ExecuteTime": {
     "end_time": "2021-02-11T21:16:18.471508Z",
     "start_time": "2021-02-11T21:16:18.468698Z"
    }
   },
   "outputs": [],
   "source": [
    "#3. Correlation\n",
    "#3-1. Use the telco_churn data. Does tenure correlate with monthly charges? Total charges? \n",
    "# What happens if you control for phone and internet service?\n",
    "\n",
    "#3-2. Use the employees database.\n",
    "# - Is there a relationship between how long an employee has been with the company and their salary?\n",
    "# - Is there a relationship between how long an employee has been with the company and the number of titles they have had?\n",
    "#3-3.Use the sleepstudy data. Is there a relationship between days and reaction time?"
   ]
  }
 ],
 "metadata": {
  "kernelspec": {
   "display_name": "Python 3",
   "language": "python",
   "name": "python3"
  },
  "language_info": {
   "codemirror_mode": {
    "name": "ipython",
    "version": 3
   },
   "file_extension": ".py",
   "mimetype": "text/x-python",
   "name": "python",
   "nbconvert_exporter": "python",
   "pygments_lexer": "ipython3",
   "version": "3.8.5"
  },
  "varInspector": {
   "cols": {
    "lenName": 16,
    "lenType": 16,
    "lenVar": 40
   },
   "kernels_config": {
    "python": {
     "delete_cmd_postfix": "",
     "delete_cmd_prefix": "del ",
     "library": "var_list.py",
     "varRefreshCmd": "print(var_dic_list())"
    },
    "r": {
     "delete_cmd_postfix": ") ",
     "delete_cmd_prefix": "rm(",
     "library": "var_list.r",
     "varRefreshCmd": "cat(var_dic_list()) "
    }
   },
   "types_to_exclude": [
    "module",
    "function",
    "builtin_function_or_method",
    "instance",
    "_Feature"
   ],
   "window_display": false
  }
 },
 "nbformat": 4,
 "nbformat_minor": 4
}
