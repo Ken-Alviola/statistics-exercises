{
 "cells": [
  {
   "cell_type": "code",
   "execution_count": 1,
   "metadata": {
    "ExecuteTime": {
     "end_time": "2021-02-08T20:31:43.991235Z",
     "start_time": "2021-02-08T20:31:43.982337Z"
    }
   },
   "outputs": [],
   "source": [
    "import pandas as pd \n",
    "import numpy as np "
   ]
  },
  {
   "cell_type": "code",
   "execution_count": 8,
   "metadata": {
    "ExecuteTime": {
     "end_time": "2021-02-08T20:42:18.524180Z",
     "start_time": "2021-02-08T20:42:18.455638Z"
    }
   },
   "outputs": [
    {
     "data": {
      "text/plain": [
       "array([[6, 6],\n",
       "       [4, 6],\n",
       "       [3, 4],\n",
       "       ...,\n",
       "       [5, 4],\n",
       "       [4, 4],\n",
       "       [2, 6]])"
      ]
     },
     "execution_count": 8,
     "metadata": {},
     "output_type": "execute_result"
    }
   ],
   "source": [
    "#1. How likely is it that you roll doubles when rolling two dice?\n",
    "outcomes = [1,2,3,4,5,6]\n",
    "\n",
    "n_simulations = 10000\n",
    "n_trials = 2\n",
    "\n",
    "rolls = np.random.choice(outcomes, size=(n_simulations,n_trials))\n",
    "rolls"
   ]
  },
  {
   "cell_type": "code",
   "execution_count": 49,
   "metadata": {
    "ExecuteTime": {
     "end_time": "2021-02-08T21:33:33.263261Z",
     "start_time": "2021-02-08T21:33:33.256764Z"
    }
   },
   "outputs": [],
   "source": [
    "def is_equal(array):\n",
    "    new_list = []\n",
    "    for i in range(len(array)):\n",
    "        new_list.append(array[i][0] == array[i][1])\n",
    "    return pd.Series(new_list)"
   ]
  },
  {
   "cell_type": "code",
   "execution_count": 50,
   "metadata": {
    "ExecuteTime": {
     "end_time": "2021-02-08T21:33:35.825699Z",
     "start_time": "2021-02-08T21:33:35.795202Z"
    }
   },
   "outputs": [
    {
     "data": {
      "text/plain": [
       "0        True\n",
       "1       False\n",
       "2       False\n",
       "3       False\n",
       "4       False\n",
       "        ...  \n",
       "9995    False\n",
       "9996    False\n",
       "9997    False\n",
       "9998     True\n",
       "9999    False\n",
       "Length: 10000, dtype: bool"
      ]
     },
     "execution_count": 50,
     "metadata": {},
     "output_type": "execute_result"
    }
   ],
   "source": [
    "doubles = is_equal(rolls)\n",
    "doubles"
   ]
  },
  {
   "cell_type": "code",
   "execution_count": 51,
   "metadata": {
    "ExecuteTime": {
     "end_time": "2021-02-08T21:33:39.695157Z",
     "start_time": "2021-02-08T21:33:39.685162Z"
    }
   },
   "outputs": [
    {
     "data": {
      "text/plain": [
       "0.1639"
      ]
     },
     "execution_count": 51,
     "metadata": {},
     "output_type": "execute_result"
    }
   ],
   "source": [
    "doubles.mean()"
   ]
  },
  {
   "cell_type": "code",
   "execution_count": 57,
   "metadata": {
    "ExecuteTime": {
     "end_time": "2021-02-08T21:44:28.893354Z",
     "start_time": "2021-02-08T21:44:28.880349Z"
    }
   },
   "outputs": [
    {
     "data": {
      "text/plain": [
       "array([[1, 0, 0, ..., 0, 0, 1],\n",
       "       [0, 1, 0, ..., 0, 1, 0],\n",
       "       [1, 0, 0, ..., 0, 0, 1],\n",
       "       ...,\n",
       "       [1, 1, 1, ..., 1, 0, 1],\n",
       "       [1, 1, 1, ..., 1, 1, 1],\n",
       "       [0, 1, 1, ..., 0, 0, 1]])"
      ]
     },
     "execution_count": 57,
     "metadata": {},
     "output_type": "execute_result"
    }
   ],
   "source": [
    "#2. If you flip 8 coins, what is the probability of getting exactly 3 heads?\n",
    "coin_outcomes = [0,1]\n",
    "n_simulations = 10000\n",
    "n_trials = 8\n",
    "\n",
    "flips = np.random.choice(coin_outcomes, size=(n_simulations,n_trials))\n",
    "flips"
   ]
  },
  {
   "cell_type": "code",
   "execution_count": 58,
   "metadata": {
    "ExecuteTime": {
     "end_time": "2021-02-08T21:45:12.396078Z",
     "start_time": "2021-02-08T21:45:12.387989Z"
    }
   },
   "outputs": [
    {
     "data": {
      "text/plain": [
       "array([2, 3, 3, ..., 6, 8, 4])"
      ]
     },
     "execution_count": 58,
     "metadata": {},
     "output_type": "execute_result"
    }
   ],
   "source": [
    "sum_of_flips = flips.sum(axis=1)\n",
    "sum_of_flips"
   ]
  },
  {
   "cell_type": "code",
   "execution_count": 60,
   "metadata": {
    "ExecuteTime": {
     "end_time": "2021-02-08T21:46:04.336453Z",
     "start_time": "2021-02-08T21:46:04.289241Z"
    }
   },
   "outputs": [
    {
     "data": {
      "text/plain": [
       "0.2138"
      ]
     },
     "execution_count": 60,
     "metadata": {},
     "output_type": "execute_result"
    }
   ],
   "source": [
    "(sum_of_flips == 3).mean()"
   ]
  },
  {
   "cell_type": "code",
   "execution_count": 61,
   "metadata": {
    "ExecuteTime": {
     "end_time": "2021-02-08T21:46:26.478136Z",
     "start_time": "2021-02-08T21:46:26.407401Z"
    }
   },
   "outputs": [
    {
     "data": {
      "text/plain": [
       "0.6393"
      ]
     },
     "execution_count": 61,
     "metadata": {},
     "output_type": "execute_result"
    }
   ],
   "source": [
    "# - What is the probability of getting more than 3 heads?\n",
    "(sum_of_flips > 3).mean()"
   ]
  },
  {
   "cell_type": "code",
   "execution_count": 62,
   "metadata": {
    "ExecuteTime": {
     "end_time": "2021-02-08T21:53:43.480749Z",
     "start_time": "2021-02-08T21:53:43.411512Z"
    }
   },
   "outputs": [
    {
     "data": {
      "text/plain": [
       "array([[0, 0],\n",
       "       [0, 0],\n",
       "       [1, 1],\n",
       "       ...,\n",
       "       [0, 0],\n",
       "       [0, 1],\n",
       "       [0, 0]])"
      ]
     },
     "execution_count": 62,
     "metadata": {},
     "output_type": "execute_result"
    }
   ],
   "source": [
    "#3. There are approximitely 3 web development cohorts for every 1 data science cohort at Codeup. \n",
    "# Assuming that Codeup randomly selects an alumni to put on a billboard, \n",
    "# what are the odds that the two billboards I drive past both have data science students on them?\n",
    "# 1 = data science\n",
    "billboard_outcomes = [1,0]\n",
    "n_trials = 2\n",
    "\n",
    "billboard_flips = np.random.choice(billboard_outcomes,size=(n_simulations,n_trials), p=[0.25,0.75])\n",
    "billboard_flips"
   ]
  },
  {
   "cell_type": "code",
   "execution_count": 63,
   "metadata": {
    "ExecuteTime": {
     "end_time": "2021-02-08T21:55:10.383978Z",
     "start_time": "2021-02-08T21:55:10.299955Z"
    }
   },
   "outputs": [
    {
     "data": {
      "text/plain": [
       "array([0, 0, 2, ..., 0, 1, 0])"
      ]
     },
     "execution_count": 63,
     "metadata": {},
     "output_type": "execute_result"
    }
   ],
   "source": [
    "sum_of_billboard_flips = billboard_flips.sum(axis=1)\n",
    "sum_of_billboard_flips"
   ]
  },
  {
   "cell_type": "code",
   "execution_count": 64,
   "metadata": {
    "ExecuteTime": {
     "end_time": "2021-02-08T21:56:43.292012Z",
     "start_time": "2021-02-08T21:56:43.218848Z"
    }
   },
   "outputs": [
    {
     "data": {
      "text/plain": [
       "0.065"
      ]
     },
     "execution_count": 64,
     "metadata": {},
     "output_type": "execute_result"
    }
   ],
   "source": [
    "(sum_of_billboard_flips == 2).mean()"
   ]
  },
  {
   "cell_type": "code",
   "execution_count": 69,
   "metadata": {
    "ExecuteTime": {
     "end_time": "2021-02-09T00:01:31.462019Z",
     "start_time": "2021-02-09T00:01:31.449142Z"
    }
   },
   "outputs": [
    {
     "data": {
      "text/plain": [
       "array([[2.05113458, 4.44562965, 2.63832698, 3.44348848, 3.12739122],\n",
       "       [2.75652257, 3.59668709, 4.92605516, 1.65978575, 3.97959029],\n",
       "       [2.52029225, 3.15930641, 1.64054788, 4.26377989, 3.68814628],\n",
       "       ...,\n",
       "       [3.29549825, 2.15401758, 0.76857705, 5.95136067, 4.38344551],\n",
       "       [1.60788162, 4.45364102, 2.82428612, 0.61758198, 3.12647435],\n",
       "       [1.84106256, 4.33749616, 1.09311422, 3.44804375, 3.43159626]])"
      ]
     },
     "execution_count": 69,
     "metadata": {},
     "output_type": "execute_result"
    }
   ],
   "source": [
    "#4. Codeup students buy, on average, 3 poptart packages (+- 1.5) a day from the snack vending machine.\n",
    "# If on monday the machine is restocked with 17 poptart packages,\n",
    "# how likely is it that I will be able to buy some poptarts on Friday afternoon?\n",
    "\n",
    "pop_tarts = np.random.normal(3,1.5,size=(n_simulations, 5))\n",
    "pop_tarts"
   ]
  },
  {
   "cell_type": "code",
   "execution_count": 70,
   "metadata": {
    "ExecuteTime": {
     "end_time": "2021-02-09T00:02:11.723813Z",
     "start_time": "2021-02-09T00:02:11.716475Z"
    }
   },
   "outputs": [
    {
     "data": {
      "text/plain": [
       "array([15.70597091, 16.91864085, 15.2720727 , ..., 16.55289907,\n",
       "       12.62986509, 14.15131295])"
      ]
     },
     "execution_count": 70,
     "metadata": {},
     "output_type": "execute_result"
    }
   ],
   "source": [
    "pop_tarts_sum = pop_tarts.sum(axis=1)\n",
    "pop_tarts_sum"
   ]
  },
  {
   "cell_type": "code",
   "execution_count": 71,
   "metadata": {
    "ExecuteTime": {
     "end_time": "2021-02-09T00:02:42.761885Z",
     "start_time": "2021-02-09T00:02:42.749562Z"
    }
   },
   "outputs": [
    {
     "data": {
      "text/plain": [
       "0.7203"
      ]
     },
     "execution_count": 71,
     "metadata": {},
     "output_type": "execute_result"
    }
   ],
   "source": [
    "(pop_tarts_sum < 17).mean()"
   ]
  },
  {
   "cell_type": "code",
   "execution_count": 75,
   "metadata": {
    "ExecuteTime": {
     "end_time": "2021-02-09T00:06:47.065429Z",
     "start_time": "2021-02-09T00:06:47.050144Z"
    }
   },
   "outputs": [
    {
     "data": {
      "text/plain": [
       "array([[175.71325164],\n",
       "       [172.10146709],\n",
       "       [169.15354303],\n",
       "       ...,\n",
       "       [167.42292296],\n",
       "       [159.29505261],\n",
       "       [166.31375139]])"
      ]
     },
     "execution_count": 75,
     "metadata": {},
     "output_type": "execute_result"
    }
   ],
   "source": [
    "#5 Compare Heights\n",
    "# - Men have an average height of 178 cm and standard deviation of 8cm.\n",
    "# - Women have a mean of 170, sd = 6cm.\n",
    "# - If a man and woman are chosen at random, P(woman taller than man)?\n",
    "\n",
    "men = np.random.normal(178,8,size=(n_simulations,1))\n",
    "women = np.random.normal(170,6,size=(n_simulations,1))\n",
    "women"
   ]
  },
  {
   "cell_type": "code",
   "execution_count": 77,
   "metadata": {
    "ExecuteTime": {
     "end_time": "2021-02-09T00:07:43.661966Z",
     "start_time": "2021-02-09T00:07:43.650982Z"
    }
   },
   "outputs": [
    {
     "data": {
      "text/plain": [
       "0.2158"
      ]
     },
     "execution_count": 77,
     "metadata": {},
     "output_type": "execute_result"
    }
   ],
   "source": [
    "(women > men).mean()"
   ]
  },
  {
   "cell_type": "code",
   "execution_count": 80,
   "metadata": {
    "ExecuteTime": {
     "end_time": "2021-02-09T00:14:15.092041Z",
     "start_time": "2021-02-09T00:14:15.054937Z"
    }
   },
   "outputs": [
    {
     "data": {
      "text/plain": [
       "array([[0, 0, 0, ..., 0, 0, 0],\n",
       "       [0, 0, 0, ..., 0, 0, 0],\n",
       "       [0, 0, 0, ..., 0, 0, 0],\n",
       "       ...,\n",
       "       [0, 0, 0, ..., 0, 0, 0],\n",
       "       [0, 0, 0, ..., 0, 0, 0],\n",
       "       [0, 0, 0, ..., 0, 0, 0]])"
      ]
     },
     "execution_count": 80,
     "metadata": {},
     "output_type": "execute_result"
    }
   ],
   "source": [
    "#6. When installing anaconda on a student's computer, there's a 1 in 250 chance that the download \n",
    "# is corrupted and the installation fails. What are the odds that after having 50 students download anaconda, \n",
    "# no one has an installation issue? 100 students?\n",
    "corrupt_outcomes = [1,0]\n",
    "\n",
    "installations = np.random.choice(corrupt_outcomes,size=(n_simulations,50),p=[0.004,0.996])\n",
    "installations"
   ]
  },
  {
   "cell_type": "code",
   "execution_count": 82,
   "metadata": {
    "ExecuteTime": {
     "end_time": "2021-02-09T00:15:15.266691Z",
     "start_time": "2021-02-09T00:15:15.253910Z"
    }
   },
   "outputs": [
    {
     "data": {
      "text/plain": [
       "0.8197"
      ]
     },
     "execution_count": 82,
     "metadata": {},
     "output_type": "execute_result"
    }
   ],
   "source": [
    "(installations.sum(axis=1) == 0).mean()"
   ]
  },
  {
   "cell_type": "code",
   "execution_count": 84,
   "metadata": {
    "ExecuteTime": {
     "end_time": "2021-02-09T00:17:09.153722Z",
     "start_time": "2021-02-09T00:17:09.093677Z"
    }
   },
   "outputs": [
    {
     "data": {
      "text/plain": [
       "0.6586"
      ]
     },
     "execution_count": 84,
     "metadata": {},
     "output_type": "execute_result"
    }
   ],
   "source": [
    "installations_100 = np.random.choice(corrupt_outcomes,size=(n_simulations,100),p=[0.004,0.996])\n",
    "(installations_100.sum(axis=1) == 0).mean()"
   ]
  },
  {
   "cell_type": "code",
   "execution_count": null,
   "metadata": {
    "ExecuteTime": {
     "end_time": "2021-02-09T00:18:48.599855Z",
     "start_time": "2021-02-09T00:18:48.506837Z"
    }
   },
   "outputs": [],
   "source": [
    "# - What is the probability that we observe an installation issue within \n",
    "# the first 150 students that download anaconda?\n",
    "installations_150 = np.random.choice(corrupt_outcomes,size=(n_simulations,150),p=[0.004,0.996])\n",
    "(installations_150.sum(axis=1) == 0).mean()"
   ]
  },
  {
   "cell_type": "code",
   "execution_count": 87,
   "metadata": {
    "ExecuteTime": {
     "end_time": "2021-02-09T00:19:34.467483Z",
     "start_time": "2021-02-09T00:19:34.240553Z"
    }
   },
   "outputs": [
    {
     "data": {
      "text/plain": [
       "0.1679"
      ]
     },
     "execution_count": 87,
     "metadata": {},
     "output_type": "execute_result"
    }
   ],
   "source": [
    "# - How likely is it that 450 students all download anaconda without an issue?\n",
    "installations_450 = np.random.choice(corrupt_outcomes,size=(n_simulations,450),p=[0.004,0.996])\n",
    "(installations_450.sum(axis=1) == 0).mean()"
   ]
  },
  {
   "cell_type": "code",
   "execution_count": null,
   "metadata": {},
   "outputs": [],
   "source": [
    "#7. There's a 70% chance on any given day that there will be at least one food truck at Travis Park. \n",
    "# However, you haven't seen a food truck there in 3 days. How unlikely is this?\n",
    "\n",
    "# - How likely is it that a food truck will show up sometime this week?"
   ]
  },
  {
   "cell_type": "code",
   "execution_count": null,
   "metadata": {},
   "outputs": [],
   "source": [
    "#8. If 23 people are in the same room, what are the odds that two of them share a birthday? \n",
    "\n",
    "# What if it's 20 people? 40?"
   ]
  }
 ],
 "metadata": {
  "kernelspec": {
   "display_name": "Python 3",
   "language": "python",
   "name": "python3"
  },
  "language_info": {
   "codemirror_mode": {
    "name": "ipython",
    "version": 3
   },
   "file_extension": ".py",
   "mimetype": "text/x-python",
   "name": "python",
   "nbconvert_exporter": "python",
   "pygments_lexer": "ipython3",
   "version": "3.8.5"
  },
  "varInspector": {
   "cols": {
    "lenName": 16,
    "lenType": 16,
    "lenVar": 40
   },
   "kernels_config": {
    "python": {
     "delete_cmd_postfix": "",
     "delete_cmd_prefix": "del ",
     "library": "var_list.py",
     "varRefreshCmd": "print(var_dic_list())"
    },
    "r": {
     "delete_cmd_postfix": ") ",
     "delete_cmd_prefix": "rm(",
     "library": "var_list.r",
     "varRefreshCmd": "cat(var_dic_list()) "
    }
   },
   "types_to_exclude": [
    "module",
    "function",
    "builtin_function_or_method",
    "instance",
    "_Feature"
   ],
   "window_display": false
  }
 },
 "nbformat": 4,
 "nbformat_minor": 4
}
